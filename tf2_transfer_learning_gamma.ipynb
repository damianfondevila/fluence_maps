{
 "cells": [
  {
   "cell_type": "markdown",
   "metadata": {
    "colab_type": "text",
    "id": "77gENRVX40S7"
   },
   "source": [
    "##### Copyright 2019 The TensorFlow Authors."
   ]
  },
  {
   "cell_type": "code",
   "execution_count": 386,
   "metadata": {
    "cellView": "form",
    "colab": {},
    "colab_type": "code",
    "id": "d8jyt37T42Vf"
   },
   "outputs": [],
   "source": [
    "#@title Licensed under the Apache License, Version 2.0 (the \"License\");\n",
    "# you may not use this file except in compliance with the License.\n",
    "# You may obtain a copy of the License at\n",
    "#\n",
    "# https://www.apache.org/licenses/LICENSE-2.0\n",
    "#\n",
    "# Unless required by applicable law or agreed to in writing, software\n",
    "# distributed under the License is distributed on an \"AS IS\" BASIS,\n",
    "# WITHOUT WARRANTIES OR CONDITIONS OF ANY KIND, either express or implied.\n",
    "# See the License for the specific language governing permissions and\n",
    "# limitations under the License."
   ]
  },
  {
   "cell_type": "code",
   "execution_count": 387,
   "metadata": {
    "cellView": "form",
    "colab": {},
    "colab_type": "code",
    "id": "aPxHdjwW5P2j"
   },
   "outputs": [],
   "source": [
    "#@title MIT License\n",
    "#\n",
    "# Copyright (c) 2017 François Chollet                                                                                                                    # IGNORE_COPYRIGHT: cleared by OSS licensing\n",
    "#\n",
    "# Permission is hereby granted, free of charge, to any person obtaining a\n",
    "# copy of this software and associated documentation files (the \"Software\"),\n",
    "# to deal in the Software without restriction, including without limitation\n",
    "# the rights to use, copy, modify, merge, publish, distribute, sublicense,\n",
    "# and/or sell copies of the Software, and to permit persons to whom the\n",
    "# Software is furnished to do so, subject to the following conditions:\n",
    "#\n",
    "# The above copyright notice and this permission notice shall be included in\n",
    "# all copies or substantial portions of the Software.\n",
    "#\n",
    "# THE SOFTWARE IS PROVIDED \"AS IS\", WITHOUT WARRANTY OF ANY KIND, EXPRESS OR\n",
    "# IMPLIED, INCLUDING BUT NOT LIMITED TO THE WARRANTIES OF MERCHANTABILITY,\n",
    "# FITNESS FOR A PARTICULAR PURPOSE AND NONINFRINGEMENT. IN NO EVENT SHALL\n",
    "# THE AUTHORS OR COPYRIGHT HOLDERS BE LIABLE FOR ANY CLAIM, DAMAGES OR OTHER\n",
    "# LIABILITY, WHETHER IN AN ACTION OF CONTRACT, TORT OR OTHERWISE, ARISING\n",
    "# FROM, OUT OF OR IN CONNECTION WITH THE SOFTWARE OR THE USE OR OTHER\n",
    "# DEALINGS IN THE SOFTWARE."
   ]
  },
  {
   "cell_type": "markdown",
   "metadata": {
    "colab_type": "text",
    "id": "hRTa3Ee15WsJ"
   },
   "source": [
    "# Transfer learning with a pretrained ConvNet"
   ]
  },
  {
   "cell_type": "markdown",
   "metadata": {
    "colab_type": "text",
    "id": "dQHMcypT3vDT"
   },
   "source": [
    "<table class=\"tfo-notebook-buttons\" align=\"left\">\n",
    "  <td>\n",
    "    <a target=\"_blank\" href=\"https://www.tensorflow.org/tutorials/images/transfer_learning\"><img src=\"https://www.tensorflow.org/images/tf_logo_32px.png\" />View on TensorFlow.org</a>\n",
    "  </td>\n",
    "  <td>\n",
    "    <a target=\"_blank\" href=\"https://colab.research.google.com/github/tensorflow/docs/blob/master/site/en/tutorials/images/transfer_learning.ipynb\"><img src=\"https://www.tensorflow.org/images/colab_logo_32px.png\" />Run in Google Colab</a>\n",
    "  </td>\n",
    "  <td>\n",
    "    <a target=\"_blank\" href=\"https://github.com/tensorflow/docs/blob/master/site/en/tutorials/images/transfer_learning.ipynb\"><img src=\"https://www.tensorflow.org/images/GitHub-Mark-32px.png\" />View source on GitHub</a>\n",
    "  </td>\n",
    "  <td>\n",
    "    <a href=\"https://storage.googleapis.com/tensorflow_docs/docs/site/en/tutorials/images/transfer_learning.ipynb\"><img src=\"https://www.tensorflow.org/images/download_logo_32px.png\" />Download notebook</a>\n",
    "  </td>\n",
    "</table>"
   ]
  },
  {
   "cell_type": "markdown",
   "metadata": {
    "colab_type": "text",
    "id": "2X4KyhORdSeO"
   },
   "source": [
    "In this tutorial, you will learn how to classify images of cats and dogs by using transfer learning from a pre-trained network.\n",
    "\n",
    "A pre-trained model is a saved network that was previously trained on a large dataset, typically on a large-scale image-classification task. You either use the pretrained model as is or use transfer learning to customize this model to a given task.\n",
    "\n",
    "The intuition behind transfer learning for image classification is that if a model is trained on a large and general enough dataset, this model will effectively serve as a generic model of the visual world. You can then take advantage of these learned feature maps without having to start from scratch by training a large model on a large dataset.\n",
    "\n",
    "In this notebook, you will try two ways to customize a pretrained model:\n",
    "\n",
    "1. Feature Extraction: Use the representations learned by a previous network to extract meaningful features from new samples. You simply add a new classifier, which will be trained from scratch, on top of the pretrained model so that you can repurpose the feature maps learned previously for the dataset.\n",
    "\n",
    " You do not need to (re)train the entire model. The base convolutional network already contains features that are generically useful for classifying pictures. However, the final, classification part of the pretrained model is specific to the original classification task, and subsequently specific to the set of classes on which the model was trained.\n",
    "\n",
    "1. Fine-Tuning: Unfreeze a few of the top layers of a frozen model base and jointly train both the newly-added classifier layers and the last layers of the base model. This allows us to \"fine-tune\" the higher-order feature representations in the base model in order to make them more relevant for the specific task.\n",
    "\n",
    "You will follow the general machine learning workflow.\n",
    "\n",
    "1. Examine and understand the data\n",
    "1. Build an input pipeline, in this case using Keras ImageDataGenerator\n",
    "1. Compose the model\n",
    "   * Load in the pretrained base model (and pretrained weights)\n",
    "   * Stack the classification layers on top\n",
    "1. Train the model\n",
    "1. Evaluate model\n"
   ]
  },
  {
   "cell_type": "code",
   "execution_count": 1,
   "metadata": {
    "colab": {},
    "colab_type": "code",
    "id": "iBMcobPHdD8O"
   },
   "outputs": [],
   "source": [
    "from __future__ import absolute_import, division, print_function, unicode_literals\n",
    "import os\n",
    "import numpy as np\n",
    "import matplotlib.pyplot as plt\n",
    "from datetime import datetime\n",
    "import time\n",
    "from random import shuffle, randrange\n",
    "import tensorflow_addons as tfa"
   ]
  },
  {
   "cell_type": "code",
   "execution_count": 389,
   "metadata": {
    "colab": {},
    "colab_type": "code",
    "id": "TqOt6Sv7AsMi"
   },
   "outputs": [
    {
     "name": "stdout",
     "output_type": "stream",
     "text": [
      "Tensorflow version = 2.1.0, addons version = 0.8.3\n",
      "Executing eagerly = True\n"
     ]
    },
    {
     "data": {
      "text/plain": [
       "'28/04/2020 23:51:04'"
      ]
     },
     "execution_count": 389,
     "metadata": {},
     "output_type": "execute_result"
    }
   ],
   "source": [
    "import tensorflow as tf\n",
    "print('Tensorflow version = {}, addons version = {}'.format(tf.__version__, tfa.__version__))\n",
    "print('Executing eagerly = {}'.format(tf.executing_eagerly()))\n",
    "keras = tf.keras\n",
    "\n",
    "tf.random.set_seed(23456)\n",
    "datetime.now().strftime(\"%d/%m/%Y %H:%M:%S\")"
   ]
  },
  {
   "cell_type": "code",
   "execution_count": 390,
   "metadata": {},
   "outputs": [],
   "source": [
    "#import tensorflow_addons as tfa\n",
    "#import tqdm\n",
    "#tqdm.__version__"
   ]
  },
  {
   "cell_type": "markdown",
   "metadata": {
    "colab_type": "text",
    "id": "v77rlkCKW0IJ"
   },
   "source": [
    "## Data preprocessing"
   ]
  },
  {
   "cell_type": "markdown",
   "metadata": {
    "colab_type": "text",
    "id": "0GoKGm1duzgk"
   },
   "source": [
    "### Data download"
   ]
  },
  {
   "cell_type": "markdown",
   "metadata": {
    "colab_type": "text",
    "id": "vHP9qMJxt2oz"
   },
   "source": [
    "Use [TensorFlow Datasets](http://tensorflow.org/datasets) to load the cats and dogs dataset.\n",
    "\n",
    "This `tfds` package is the easiest way to load pre-defined data. If you have your own data, and are interested in importing using it with TensorFlow see [loading image data](../load_data/images.ipynb)\n"
   ]
  },
  {
   "cell_type": "code",
   "execution_count": 391,
   "metadata": {
    "colab": {},
    "colab_type": "code",
    "id": "KVh7rDVAuW8Y"
   },
   "outputs": [],
   "source": [
    "import tensorflow_datasets as tfds\n",
    "tfds.disable_progress_bar()"
   ]
  },
  {
   "cell_type": "markdown",
   "metadata": {
    "colab_type": "text",
    "id": "Nsoic6bGuwQ-"
   },
   "source": [
    "The `tfds.load` method downloads and caches the data, and returns a `tf.data.Dataset` object. These objects provide powerful, efficient methods for manipulating data and piping it into your model.\n",
    "\n",
    "Since `\"cats_vs_dogs\"` doesn't define standard splits, use the subsplit feature to divide it into (train, validation, test) with 80%, 10%, and 10% of the data respectively."
   ]
  },
  {
   "cell_type": "code",
   "execution_count": 392,
   "metadata": {
    "colab": {},
    "colab_type": "code",
    "id": "ro4oYaEmxe4r"
   },
   "outputs": [],
   "source": [
    "# SPLIT_WEIGHTS = (8, 1, 1)\n",
    "# splits = tfds.Split.TRAIN.subsplit(weighted=SPLIT_WEIGHTS)\n",
    "# \n",
    "# (raw_train, raw_validation, raw_test), metadata = tfds.load(\n",
    "#     'cats_vs_dogs', split=list(splits),\n",
    "#     with_info=True, as_supervised=True)"
   ]
  },
  {
   "cell_type": "code",
   "execution_count": 393,
   "metadata": {},
   "outputs": [],
   "source": [
    "def _tfrecord_dataset_type_from_folder(folder, dataset_type, ext='.tfrecords'):\n",
    "    tfrecords = [os.path.join(folder, n)\n",
    "                 for n in os.listdir(folder) if n.startswith(dataset_type) and n.endswith(ext)]\n",
    "    return tf.data.TFRecordDataset(tfrecords)\n",
    "\n",
    "num_shards=4\n",
    "tfdataset_dir=\"/hdd/data/radioterapia/ciolaplata/tfds.2019.ovs\"\n",
    "donottest=True\n",
    "\n",
    "raw_train = _tfrecord_dataset_type_from_folder(tfdataset_dir, 'train')\n",
    "raw_validation = _tfrecord_dataset_type_from_folder(tfdataset_dir, 'validation')\n",
    "if not donottest:\n",
    "    raw_test = _tfrecord_dataset_type_from_folder(tfdataset_dir, 'test')"
   ]
  },
  {
   "cell_type": "markdown",
   "metadata": {
    "colab_type": "text",
    "id": "o29EfE-p0g5X"
   },
   "source": [
    "The resulting `tf.data.Dataset` objects contain `(image, label)` pairs where the images have variable shape and 3 channels, and the label is a scalar."
   ]
  },
  {
   "cell_type": "code",
   "execution_count": 394,
   "metadata": {
    "colab": {},
    "colab_type": "code",
    "id": "GIys1_zY1S9b"
   },
   "outputs": [
    {
     "name": "stdout",
     "output_type": "stream",
     "text": [
      "<TFRecordDatasetV2 shapes: (), types: tf.string>\n",
      "<TFRecordDatasetV2 shapes: (), types: tf.string>\n"
     ]
    }
   ],
   "source": [
    "print(raw_train)\n",
    "print(raw_validation)\n",
    "if not donottest:\n",
    "    print(raw_test)"
   ]
  },
  {
   "cell_type": "code",
   "execution_count": 395,
   "metadata": {},
   "outputs": [
    {
     "data": {
      "text/plain": [
       "245"
      ]
     },
     "execution_count": 395,
     "metadata": {},
     "output_type": "execute_result"
    }
   ],
   "source": [
    "sum(1 for _ in raw_validation)"
   ]
  },
  {
   "cell_type": "markdown",
   "metadata": {
    "colab_type": "text",
    "id": "yO1Q2JaW5sIy"
   },
   "source": [
    "Show the first two images and labels from the training set:"
   ]
  },
  {
   "cell_type": "markdown",
   "metadata": {
    "colab_type": "text",
    "id": "wvidPx6jeFzf"
   },
   "source": [
    "### Format the Data\n",
    "\n",
    "Use the `tf.image` module to format the images for the task.\n",
    "\n",
    "Resize the images to a fixed input size, and rescale the input channels to a range of `[-1,1]`\n",
    "\n",
    "<!-- TODO(markdaoust): fix the keras_applications preprocessing functions to work in tf2 -->"
   ]
  },
  {
   "cell_type": "code",
   "execution_count": 396,
   "metadata": {},
   "outputs": [],
   "source": [
    "def rescale_min_1_to_1(image):\n",
    "    \"\"\"\n",
    "    Rescale image to [-1, 1].\n",
    "\n",
    "    :param image:\n",
    "        Required. Image tensor.\n",
    "\n",
    "    :return:\n",
    "        Scaled image.\n",
    "    \"\"\"\n",
    "    # Image must be casted to float32 first\n",
    "    image = tf.cast(image, tf.float32)\n",
    "    # Rescale image from [0, 255] to [0, 2], and by substracting -1 we rescale to [-1, 1].\n",
    "    image = (image/127.5) - 1\n",
    "    return image"
   ]
  },
  {
   "cell_type": "code",
   "execution_count": 397,
   "metadata": {},
   "outputs": [],
   "source": [
    "def _parse_image_function(example_proto, img_size, normalization_fn, data_augmentation=False):\n",
    "    # Create a dictionary describing the features.\n",
    "    image_feature_description = {\"image/filename\": tf.io.FixedLenFeature((), tf.string),\n",
    "                \"image/encoded\": tf.io.FixedLenFeature((), tf.string),\n",
    "                \"image/format\": tf.io.FixedLenFeature((), tf.string),\n",
    "                \"image/gamma_index\": tf.io.FixedLenFeature((), tf.float32),\n",
    "                \"image/height\": tf.io.FixedLenFeature((), tf.int64),\n",
    "                \"image/width\": tf.io.FixedLenFeature((), tf.int64)}\n",
    "\n",
    "    \n",
    "    def image_augment(image, gamma):\n",
    "        if gamma <= 99.2:\n",
    "            # Apply data augmentations randomly.\n",
    "            # radian = randrange(4) * 90\n",
    "            # return tfa.image.transform_ops.rotate(image, radian)\n",
    "            op = randrange(3)\n",
    "            if op == 1:\n",
    "                return tf.image.random_flip_left_right(image)\n",
    "            elif op == 2:\n",
    "                return tf.image.random_flip_up_down(image)\n",
    "            else:\n",
    "                return image\n",
    "        else:\n",
    "            return image\n",
    "        \n",
    "        \n",
    "    # Parse the input tf.Example proto using the dictionary above.\n",
    "    parsed = tf.io.parse_single_example(example_proto, image_feature_description)\n",
    "    \n",
    "    # print(type(image), image.shape, image.dtype) # <class 'tensorflow.python.framework.ops.Tensor'> (None, None, 3) <dtype: 'uint8'>\n",
    "    image = tf.image.decode_jpeg(parsed[\"image/encoded\"], channels=3)\n",
    "\n",
    "    #gamma_index is a tensor of an array of tf.float32\n",
    "    gamma = tf.cast(\n",
    "        parsed[\"image/gamma_index\"],\n",
    "        tf.float32)\n",
    "    \n",
    "    if data_augmentation:\n",
    "        image = image_augment(image, gamma)\n",
    "        \n",
    "    image = normalization_fn(image)\n",
    "    \n",
    "    image = tf.image.resize(image, (IMG_SIZE, IMG_SIZE))\n",
    "    print(type(image), image.shape, image.dtype)\n",
    "    \n",
    "    #label is a tensor of an array of single tf.int64 arrays.\n",
    "    #label = tf.cast(\n",
    "    #    tf.reshape(parsed[\"image/class/label\"], [-1]),\n",
    "    #    tf.int64)\n",
    "\n",
    "    # assert tf.executing_eagerly() FAILS\n",
    "    # parsed[\"image/filename\"] is a Tensor and not an EagerTensor because we are in a map function,\n",
    "    # because in 2.0, code inside Datasets maps is turned into a subgraph for speed, just as it was in 1.x eager\n",
    "    # execution. You generally want to avoid Python inside your data pipeline.\n",
    "    # So, if I invoke parsed[\"image/filename\"].numpy().decode('utf-8') to get the filename string the error\n",
    "    # \"AttributeError: 'Tensor' object has no attribute 'numpy'\" is thrown, hence I return a tensor.\n",
    "    filename = parsed[\"image/filename\"]\n",
    "            \n",
    "    return image, gamma, filename"
   ]
  },
  {
   "cell_type": "markdown",
   "metadata": {
    "colab_type": "text",
    "id": "i2MRh_AeBtOM"
   },
   "source": [
    "Apply this function to each item in the dataset using the map method:"
   ]
  },
  {
   "cell_type": "code",
   "execution_count": 398,
   "metadata": {},
   "outputs": [],
   "source": [
    "IMG_SIZE = 256 # All images will be resized to 160x160\n",
    "normalization_fn = rescale_min_1_to_1\n",
    "# normalization_fn = tf.image.per_image_standardization # loss y mae en validación reportan números muy grande,\n",
    "# no así en training.\n",
    "data_augmentation=False\n",
    "add_regularizers=False"
   ]
  },
  {
   "cell_type": "code",
   "execution_count": 399,
   "metadata": {
    "colab": {},
    "colab_type": "code",
    "id": "SFZ6ZW7KSXP9"
   },
   "outputs": [
    {
     "name": "stdout",
     "output_type": "stream",
     "text": [
      "<class 'tensorflow.python.framework.ops.Tensor'> (256, 256, 3) <dtype: 'float32'>\n",
      "<class 'tensorflow.python.framework.ops.Tensor'> (256, 256, 3) <dtype: 'float32'>\n"
     ]
    }
   ],
   "source": [
    "num_workers = 8\n",
    "\n",
    "# assert tf.executing_eagerly()\n",
    "if data_augmentation:\n",
    "    print(\"Training with image augmentation.\")\n",
    "    \n",
    "train = raw_train.map(lambda e: _parse_image_function(e, IMG_SIZE, normalization_fn, data_augmentation),\n",
    "                      num_parallel_calls=num_workers)\n",
    "validation = raw_validation.map(lambda e: _parse_image_function(e, IMG_SIZE, normalization_fn),\n",
    "                                num_parallel_calls=num_workers)\n",
    "if not donottest:\n",
    "    test = raw_test.map(lambda e: _parse_image_function(e, IMG_SIZE, normalization_fn),\n",
    "                        num_parallel_calls=num_workers)"
   ]
  },
  {
   "cell_type": "markdown",
   "metadata": {
    "colab_type": "text",
    "id": "E5ifgXDuBfOC"
   },
   "source": [
    "Now shuffle and batch the data."
   ]
  },
  {
   "cell_type": "code",
   "execution_count": 400,
   "metadata": {
    "colab": {},
    "colab_type": "code",
    "id": "Yic-I66m6Isv"
   },
   "outputs": [],
   "source": [
    "BATCH_SIZE = 32\n",
    "SHUFFLE_BUFFER_SIZE = 1000\n",
    "PREFETCH_BUFFER_SIZE = 2 * BATCH_SIZE"
   ]
  },
  {
   "cell_type": "code",
   "execution_count": 401,
   "metadata": {
    "colab": {},
    "colab_type": "code",
    "id": "p3UUPdm86LNC"
   },
   "outputs": [
    {
     "name": "stdout",
     "output_type": "stream",
     "text": [
      "<PrefetchDataset shapes: ((None, 256, 256, 3), (None,), (None,)), types: (tf.float32, tf.float32, tf.string)>\n",
      "<PrefetchDataset shapes: ((None, 256, 256, 3), (None,), (None,)), types: (tf.float32, tf.float32, tf.string)>\n"
     ]
    }
   ],
   "source": [
    "# <PrefetchDataset shapes: ((None, 224, 224, 3), (None, 1)), types: (tf.float32, tf.int64)>\n",
    "train_batches = train.shuffle(SHUFFLE_BUFFER_SIZE).batch(BATCH_SIZE).prefetch(PREFETCH_BUFFER_SIZE)\n",
    "print(train_batches)\n",
    "validation_batches = validation.batch(BATCH_SIZE).prefetch(PREFETCH_BUFFER_SIZE)\n",
    "print(validation_batches)\n",
    "# <BatchDataset shapes: ((None, 224, 224, 3), (None, 1)), types: (tf.float32, tf.int64)>\n",
    "if not donottest:\n",
    "    test_batches = test.batch(BATCH_SIZE)\n",
    "    print(test_batches)"
   ]
  },
  {
   "cell_type": "markdown",
   "metadata": {
    "colab_type": "text",
    "id": "02rJpcFtChP0"
   },
   "source": [
    "Inspect a batch of data:"
   ]
  },
  {
   "cell_type": "code",
   "execution_count": 402,
   "metadata": {
    "colab": {},
    "colab_type": "code",
    "id": "iknFo3ELBVho"
   },
   "outputs": [
    {
     "data": {
      "text/plain": [
       "(TensorShape([32, 256, 256, 3]), TensorShape([32]), TensorShape([32]))"
      ]
     },
     "execution_count": 402,
     "metadata": {},
     "output_type": "execute_result"
    }
   ],
   "source": [
    "for image_batch, label_batch, filename_batch in train_batches.take(1):\n",
    "    pass\n",
    "\n",
    "image_batch.shape, label_batch.shape, filename_batch.shape"
   ]
  },
  {
   "cell_type": "markdown",
   "metadata": {
    "colab_type": "text",
    "id": "OkH-kazQecHB"
   },
   "source": [
    "## Create the base model from the pre-trained convnets\n",
    "You will create the base model from the **MobileNet V2** model developed at Google. This is pre-trained on the ImageNet dataset, a large dataset consisting of 1.4M images and 1000 classes. ImageNet is a research training dataset with a wide variety of categories like `jackfruit` and `syringe`. This base of knowledge will help us classify cats and dogs from our specific dataset.\n",
    "\n",
    "First, you need to pick which layer of MobileNet V2 you will use for feature extraction. The very last classification layer (on \"top\", as most diagrams of machine learning models go from bottom to top) is not very useful.  Instead, you will follow the common practice to depend on the very last layer before the flatten operation. This layer is called the \"bottleneck layer\". The bottleneck layer features retain more generality as compared to the final/top layer.\n",
    "\n",
    "First, instantiate a MobileNet V2 model pre-loaded with weights trained on ImageNet. By specifying the **include_top=False** argument, you load a network that doesn't include the classification layers at the top, which is ideal for feature extraction."
   ]
  },
  {
   "cell_type": "code",
   "execution_count": 403,
   "metadata": {
    "colab": {},
    "colab_type": "code",
    "id": "19IQ2gqneqmS"
   },
   "outputs": [],
   "source": [
    "IMG_SHAPE = (IMG_SIZE, IMG_SIZE, 3)\n",
    "\n",
    "## Create the base model from the pre-trained model MobileNet V2\n",
    "#base_model = tf.keras.applications.MobileNetV2(input_shape=IMG_SHAPE,\n",
    "#                                               # alpha=1.4,\n",
    "#                                               include_top=False,\n",
    "#                                               weights='imagenet')"
   ]
  },
  {
   "cell_type": "code",
   "execution_count": 404,
   "metadata": {},
   "outputs": [],
   "source": [
    "# Create the base model from the pre-trained model Inception V3\n",
    "\n",
    "# When include_top=True and weights=None (random initialization), see below:\n",
    "# __________________________________________________________________________________________________\n",
    "# avg_pool (GlobalAveragePooling2 (None, 2048)         0           mixed10[0][0]                    \n",
    "# __________________________________________________________________________________________________\n",
    "# predictions (Dense)             (None, 1000)         2049000     avg_pool[0][0]                   \n",
    "# ==================================================================================================        \n",
    "\n",
    "#base_model = tf.keras.applications.InceptionV3(input_shape=IMG_SHAPE,\n",
    "#                                               weights='imagenet',\n",
    "#                                               include_top=False)\n",
    "\n",
    "#base_model = tf.keras.applications.InceptionV3(input_shape=IMG_SHAPE,\n",
    "#                                               include_top=False)"
   ]
  },
  {
   "cell_type": "code",
   "execution_count": 405,
   "metadata": {},
   "outputs": [],
   "source": [
    "base_model = tf.keras.applications.VGG16(input_shape=IMG_SHAPE,\n",
    "                                               weights='imagenet',\n",
    "                                               include_top=False)"
   ]
  },
  {
   "cell_type": "markdown",
   "metadata": {
    "colab_type": "text",
    "id": "AqcsxoJIEVXZ"
   },
   "source": [
    "This feature extractor converts each `160x160x3` image into a `5x5x1280` block of features. See what it does to the example batch of images:"
   ]
  },
  {
   "cell_type": "code",
   "execution_count": 406,
   "metadata": {
    "colab": {},
    "colab_type": "code",
    "id": "Y-2LJL0EEUcx"
   },
   "outputs": [
    {
     "name": "stdout",
     "output_type": "stream",
     "text": [
      "(32, 8, 8, 512)\n"
     ]
    }
   ],
   "source": [
    "feature_batch = base_model(image_batch)\n",
    "print(feature_batch.shape)"
   ]
  },
  {
   "cell_type": "markdown",
   "metadata": {
    "colab_type": "text",
    "id": "rlx56nQtfe8Y"
   },
   "source": [
    "## Feature extraction\n",
    "In this step, you will freeze the convolutional base created from the previous step and to use as a feature extractor. Additionally, you add a classifier on top of it and train the top-level classifier."
   ]
  },
  {
   "cell_type": "markdown",
   "metadata": {
    "colab_type": "text",
    "id": "CnMLieHBCwil"
   },
   "source": [
    "### Freeze the convolutional base\n",
    "\n",
    "It is important to freeze the convolutional base before you compile and train the model. Freezing (by setting layer.trainable = False) prevents the weights in a given layer from being updated during training. MobileNet V2 has many layers, so setting the entire model's trainable flag to False will freeze all the layers."
   ]
  },
  {
   "cell_type": "code",
   "execution_count": 407,
   "metadata": {
    "colab": {},
    "colab_type": "code",
    "id": "OTCJH4bphOeo"
   },
   "outputs": [],
   "source": [
    "base_model.trainable = False"
   ]
  },
  {
   "cell_type": "code",
   "execution_count": 408,
   "metadata": {
    "colab": {},
    "colab_type": "code",
    "id": "KpbzSmPkDa-N"
   },
   "outputs": [
    {
     "name": "stdout",
     "output_type": "stream",
     "text": [
      "Model: \"vgg16\"\n",
      "_________________________________________________________________\n",
      "Layer (type)                 Output Shape              Param #   \n",
      "=================================================================\n",
      "input_8 (InputLayer)         [(None, 256, 256, 3)]     0         \n",
      "_________________________________________________________________\n",
      "block1_conv1 (Conv2D)        (None, 256, 256, 64)      1792      \n",
      "_________________________________________________________________\n",
      "block1_conv2 (Conv2D)        (None, 256, 256, 64)      36928     \n",
      "_________________________________________________________________\n",
      "block1_pool (MaxPooling2D)   (None, 128, 128, 64)      0         \n",
      "_________________________________________________________________\n",
      "block2_conv1 (Conv2D)        (None, 128, 128, 128)     73856     \n",
      "_________________________________________________________________\n",
      "block2_conv2 (Conv2D)        (None, 128, 128, 128)     147584    \n",
      "_________________________________________________________________\n",
      "block2_pool (MaxPooling2D)   (None, 64, 64, 128)       0         \n",
      "_________________________________________________________________\n",
      "block3_conv1 (Conv2D)        (None, 64, 64, 256)       295168    \n",
      "_________________________________________________________________\n",
      "block3_conv2 (Conv2D)        (None, 64, 64, 256)       590080    \n",
      "_________________________________________________________________\n",
      "block3_conv3 (Conv2D)        (None, 64, 64, 256)       590080    \n",
      "_________________________________________________________________\n",
      "block3_pool (MaxPooling2D)   (None, 32, 32, 256)       0         \n",
      "_________________________________________________________________\n",
      "block4_conv1 (Conv2D)        (None, 32, 32, 512)       1180160   \n",
      "_________________________________________________________________\n",
      "block4_conv2 (Conv2D)        (None, 32, 32, 512)       2359808   \n",
      "_________________________________________________________________\n",
      "block4_conv3 (Conv2D)        (None, 32, 32, 512)       2359808   \n",
      "_________________________________________________________________\n",
      "block4_pool (MaxPooling2D)   (None, 16, 16, 512)       0         \n",
      "_________________________________________________________________\n",
      "block5_conv1 (Conv2D)        (None, 16, 16, 512)       2359808   \n",
      "_________________________________________________________________\n",
      "block5_conv2 (Conv2D)        (None, 16, 16, 512)       2359808   \n",
      "_________________________________________________________________\n",
      "block5_conv3 (Conv2D)        (None, 16, 16, 512)       2359808   \n",
      "_________________________________________________________________\n",
      "block5_pool (MaxPooling2D)   (None, 8, 8, 512)         0         \n",
      "=================================================================\n",
      "Total params: 14,714,688\n",
      "Trainable params: 0\n",
      "Non-trainable params: 14,714,688\n",
      "_________________________________________________________________\n"
     ]
    }
   ],
   "source": [
    "# Let's take a look at the base model architecture\n",
    "base_model.summary()"
   ]
  },
  {
   "cell_type": "code",
   "execution_count": 409,
   "metadata": {},
   "outputs": [
    {
     "name": "stdout",
     "output_type": "stream",
     "text": [
      "layer block1_conv1 has no regularizer.\n",
      "layer block1_conv2 has no regularizer.\n",
      "layer block2_conv1 has no regularizer.\n",
      "layer block2_conv2 has no regularizer.\n",
      "layer block3_conv1 has no regularizer.\n",
      "layer block3_conv2 has no regularizer.\n",
      "layer block3_conv3 has no regularizer.\n",
      "layer block4_conv1 has no regularizer.\n",
      "layer block4_conv2 has no regularizer.\n",
      "layer block4_conv3 has no regularizer.\n",
      "layer block5_conv1 has no regularizer.\n",
      "layer block5_conv2 has no regularizer.\n",
      "layer block5_conv3 has no regularizer.\n"
     ]
    }
   ],
   "source": [
    "from add_regularization import add_regularization\n",
    "# adds a tf.keras.regularizers.l2(0.0001)\n",
    "#\"kernel_regularizer\":{\n",
    "#                        \"class_name\": \"L1L2\",\n",
    "#                        \"config\": {\n",
    "#                            \"l1\": 0,\n",
    "#                            \"l2\": 0.0001\n",
    "#                        }\n",
    "#                     }\n",
    "if add_regularizers:\n",
    "    base_model = add_regularization(base_model)\n",
    "\n",
    "for layer in base_model.layers:\n",
    "    for attr in ['kernel_regularizer']:\n",
    "        if hasattr(layer, attr):\n",
    "            if getattr(layer, attr) is None:\n",
    "                print('layer {} has no regularizer.'.format(layer.name))\n",
    "            else:\n",
    "                print('layer {} has a regularizer {}.'.format(layer.name, getattr(layer, attr)))\n"
   ]
  },
  {
   "cell_type": "code",
   "execution_count": 410,
   "metadata": {},
   "outputs": [],
   "source": [
    "from render_json import RenderJSON\n",
    "\n",
    "# RenderJSON(base_model.to_json())"
   ]
  },
  {
   "cell_type": "code",
   "execution_count": 411,
   "metadata": {},
   "outputs": [],
   "source": [
    "# display the weights of some layers\n",
    "l = 1\n",
    "for layer in base_model.layers:\n",
    "    # print('layer {:3d}, name: {}'.format(l, layer.name))\n",
    "    if layer.name == \"expanded_conv_project\":\n",
    "        weights = layer.get_weights()\n",
    "        print(layer.get_config(), weights, weights[0].shape)\n",
    "    l += 1"
   ]
  },
  {
   "cell_type": "markdown",
   "metadata": {
    "colab_type": "text",
    "id": "wdMRM8YModbk"
   },
   "source": [
    "### Add a classification head"
   ]
  },
  {
   "cell_type": "markdown",
   "metadata": {
    "colab_type": "text",
    "id": "QBc31c4tMOdH"
   },
   "source": [
    "To generate predictions from the block of features, average over the spatial `5x5` spatial locations, using a `tf.keras.layers.GlobalAveragePooling2D` layer to convert the features to  a single 1280-element vector per image."
   ]
  },
  {
   "cell_type": "code",
   "execution_count": 412,
   "metadata": {
    "colab": {},
    "colab_type": "code",
    "id": "dLnpMF5KOALm"
   },
   "outputs": [
    {
     "name": "stdout",
     "output_type": "stream",
     "text": [
      "(32, 512)\n"
     ]
    }
   ],
   "source": [
    "global_average_layer = tf.keras.layers.GlobalAveragePooling2D()\n",
    "feature_batch_average = global_average_layer(feature_batch)\n",
    "print(feature_batch_average.shape)"
   ]
  },
  {
   "cell_type": "markdown",
   "metadata": {
    "colab_type": "text",
    "id": "O1p0OJBR6dOT"
   },
   "source": [
    "Apply a `tf.keras.layers.Dense` layer to convert these features into a single prediction per image. You don't need an activation function here because this prediction will be treated as a `logit`, or a raw prediction value.  Positive numbers predict class 1, negative numbers predict class 0."
   ]
  },
  {
   "cell_type": "code",
   "execution_count": 413,
   "metadata": {
    "colab": {},
    "colab_type": "code",
    "id": "Wv4afXKj6cVa"
   },
   "outputs": [
    {
     "name": "stdout",
     "output_type": "stream",
     "text": [
      "(32, 1)\n"
     ]
    }
   ],
   "source": [
    "# Pablo March 10: add sigmoid\n",
    "# WARNING: adding the activation function causes loss to keep close to 0.5 and does not decrease.\n",
    "# prediction_layer = keras.layers.Dense(1, activation='sigmoid') # para obtener probabilidades y no logits\n",
    "\n",
    "# https://keras.io/applications/#fine-tune-inceptionv3-on-a-new-set-of-classes\n",
    "# https://stackoverflow.com/questions/58627411/how-to-use-inception-network-for-regression\n",
    "\n",
    "# let's add a fully-connected layer\n",
    "fc1 = keras.layers.Dense(512, activation='relu')\n",
    "#fc2 = keras.layers.Dense(512, activation='relu')\n",
    "#dropout = keras.layers.Dropout(rate=0.05) # no funciona\n",
    "# and a linear output layer (regression)\n",
    "prediction_layer = keras.layers.Dense(1, activation='linear')\n",
    "# and a logistic layer -- let's say we have 200 classes (classification)\n",
    "# prediction_layer = Dense(200, activation='softmax')(x)\n",
    "\n",
    "# Up to March 27, 2020\n",
    "# prediction_layer = keras.layers.Dense(1)\n",
    "prediction_batch = prediction_layer(feature_batch_average)\n",
    "print(prediction_batch.shape)"
   ]
  },
  {
   "cell_type": "markdown",
   "metadata": {
    "colab_type": "text",
    "id": "0iqnBeZrfoIc"
   },
   "source": [
    "Now stack the feature extractor, and these two layers using a `tf.keras.Sequential` model:"
   ]
  },
  {
   "cell_type": "code",
   "execution_count": 414,
   "metadata": {
    "colab": {},
    "colab_type": "code",
    "id": "eApvroIyn1K0"
   },
   "outputs": [],
   "source": [
    "model = tf.keras.Sequential([\n",
    "  base_model,\n",
    "  global_average_layer,\n",
    "  fc1,\n",
    "  #dropout,\n",
    "  #fc2,\n",
    "  prediction_layer\n",
    "])"
   ]
  },
  {
   "cell_type": "markdown",
   "metadata": {
    "colab_type": "text",
    "id": "g0ylJXE_kRLi"
   },
   "source": [
    "### Compile the model\n",
    "\n",
    "You must compile the model before training it.  Since there are two classes, use a binary cross-entropy loss with `from_logits=True` since the model provides a linear output."
   ]
  },
  {
   "cell_type": "code",
   "execution_count": 415,
   "metadata": {
    "colab": {},
    "colab_type": "code",
    "id": "RpR8HdyMhukJ"
   },
   "outputs": [],
   "source": [
    "base_learning_rate = 0.001\n",
    "# mse = square(y_true - y_pred)\n",
    "# mae = loss = abs(y_true - y_pred)\n",
    "# mape = 100 * abs(y_true - y_pred) / y_true\n",
    "# mae y mape son similares, no iguales, por eso tomo MAE que es el promedio de la diferencia absoluta entre el\n",
    "# gamma real y el gamma predicho\n",
    "#optimizer = tf.keras.optimizers.RMSprop(lr=base_learning_rate, momentum=0.95)\n",
    "optimizer = tf.keras.optimizers.Adam(learning_rate=base_learning_rate)\n",
    "model.compile(optimizer=optimizer,\n",
    "              loss=tf.keras.losses.MeanAbsoluteError(),\n",
    "              metrics=['mse'])"
   ]
  },
  {
   "cell_type": "code",
   "execution_count": 416,
   "metadata": {
    "colab": {},
    "colab_type": "code",
    "id": "I8ARiyMFsgbH"
   },
   "outputs": [
    {
     "name": "stdout",
     "output_type": "stream",
     "text": [
      "Model: \"sequential_7\"\n",
      "_________________________________________________________________\n",
      "Layer (type)                 Output Shape              Param #   \n",
      "=================================================================\n",
      "vgg16 (Model)                (None, 8, 8, 512)         14714688  \n",
      "_________________________________________________________________\n",
      "global_average_pooling2d_7 ( (None, 512)               0         \n",
      "_________________________________________________________________\n",
      "dense_14 (Dense)             (None, 512)               262656    \n",
      "_________________________________________________________________\n",
      "dense_15 (Dense)             (None, 1)                 513       \n",
      "=================================================================\n",
      "Total params: 14,977,857\n",
      "Trainable params: 263,169\n",
      "Non-trainable params: 14,714,688\n",
      "_________________________________________________________________\n"
     ]
    }
   ],
   "source": [
    "model.summary()"
   ]
  },
  {
   "cell_type": "markdown",
   "metadata": {
    "colab_type": "text",
    "id": "lxOcmVr0ydFZ"
   },
   "source": [
    "The 2.5M parameters in MobileNet are frozen, but there are 1.2K _trainable_ parameters in the Dense layer.  These are divided between two `tf.Variable` objects, the weights and biases."
   ]
  },
  {
   "cell_type": "code",
   "execution_count": 417,
   "metadata": {
    "colab": {},
    "colab_type": "code",
    "id": "krvBumovycVA"
   },
   "outputs": [
    {
     "data": {
      "text/plain": [
       "4"
      ]
     },
     "execution_count": 417,
     "metadata": {},
     "output_type": "execute_result"
    }
   ],
   "source": [
    "len(model.trainable_variables)"
   ]
  },
  {
   "cell_type": "markdown",
   "metadata": {
    "colab_type": "text",
    "id": "RxvgOYTDSWTx"
   },
   "source": [
    "### Train the model\n",
    "\n",
    "After training for 10 epochs, you should see ~96% accuracy.\n"
   ]
  },
  {
   "cell_type": "code",
   "execution_count": 418,
   "metadata": {
    "colab": {},
    "colab_type": "code",
    "id": "hlHEavK7DUI7"
   },
   "outputs": [
    {
     "name": "stdout",
     "output_type": "stream",
     "text": [
      "1263 245\n"
     ]
    }
   ],
   "source": [
    "num_train = sum(1 for _ in raw_train)\n",
    "num_val = sum(1 for _ in raw_validation)\n",
    "print(num_train, num_val)\n",
    "if not donottest:\n",
    "    num_test = sum(1 for _ in raw_test)\n",
    "    print(num_test)"
   ]
  },
  {
   "cell_type": "code",
   "execution_count": 419,
   "metadata": {
    "colab": {},
    "colab_type": "code",
    "id": "Om4O3EESkab1"
   },
   "outputs": [
    {
     "name": "stdout",
     "output_type": "stream",
     "text": [
      "<MapDataset shapes: ((None, 256, 256, 3), (None,)), types: (tf.float32, tf.float32)>\n",
      " 8/20 [===========>..................] - ETA: 1s - loss: 99.3961 - mse: 9879.9697WARNING:tensorflow:Your input ran out of data; interrupting training. Make sure that your dataset or generator can generate at least `steps_per_epoch * epochs` batches (in this case, 20 batches). You may need to use the repeat() function when building your dataset.\n"
     ]
    }
   ],
   "source": [
    "initial_epochs = 10\n",
    "steps_per_epoch = round(num_train)//BATCH_SIZE\n",
    "validation_steps=20\n",
    "\n",
    "# projects out just the first two components.\n",
    "tmp_validation_batches = validation_batches.map(lambda image, gamma, filename: (image, gamma))\n",
    "print(tmp_validation_batches)\n",
    "\n",
    "loss0 = mse0 = 0\n",
    "loss0, mse0 = model.evaluate(tmp_validation_batches, steps = validation_steps)"
   ]
  },
  {
   "cell_type": "code",
   "execution_count": 420,
   "metadata": {
    "colab": {},
    "colab_type": "code",
    "id": "8cYT1c48CuSd"
   },
   "outputs": [
    {
     "name": "stdout",
     "output_type": "stream",
     "text": [
      "initial loss: 39.76\n",
      "initial mape: 9879.97\n"
     ]
    }
   ],
   "source": [
    "print(\"initial loss: {:.2f}\".format(loss0))\n",
    "print(\"initial mape: {:.2f}\".format(mse0))"
   ]
  },
  {
   "cell_type": "code",
   "execution_count": 421,
   "metadata": {
    "colab": {},
    "colab_type": "code",
    "id": "JsaRFlZ9B6WK"
   },
   "outputs": [
    {
     "name": "stdout",
     "output_type": "stream",
     "text": [
      "<MapDataset shapes: ((None, 256, 256, 3), (None,)), types: (tf.float32, tf.float32)>\n"
     ]
    }
   ],
   "source": [
    "# projects out just the first two components.\n",
    "tmp_train_batches = train_batches.map(lambda image, gamma, filename: (image, gamma))\n",
    "print(tmp_train_batches)"
   ]
  },
  {
   "cell_type": "code",
   "execution_count": 422,
   "metadata": {},
   "outputs": [],
   "source": [
    "# Implement callback function to stop training\n",
    "class MyCallback(tf.keras.callbacks.Callback):\n",
    "    \n",
    "    def __init__(self, wait_epochs):\n",
    "        self.__wait_epochs = wait_epochs\n",
    "        self.__latest_peak_mae = 4\n",
    "        self.__waited_epochs = 0\n",
    "        self.__saved_model_file = None\n",
    "        \n",
    "    def stopTraining(self, epoch, val_mae):\n",
    "        stop_early = False\n",
    "        # check for early stop\n",
    "        if val_mae < self.__latest_peak_mae:\n",
    "            self.__latest_peak_mae = val_mae\n",
    "            print(f\"\\nNew peak val_mae reached: {val_mae:6.4}\")\n",
    "\n",
    "            t = time.time()\n",
    "            save_model_path = \"./tmp/saved_models/{}.h5\".format(int(t))\n",
    "            print(save_model_path)\n",
    "            # Either 'tf' or 'h5', indicating whether to save the model to Tensorflow SavedModel or HDF5. Defaults to 'tf' \n",
    "            # in TF 2.X, and 'h5' in TF 1.X.            \n",
    "            model.save(save_model_path, save_format='h5')\n",
    "            # borro el archivo del modelo anterior\n",
    "            if self.__saved_model_file is not None:\n",
    "                os.remove(self.__saved_model_file)\n",
    "            self.__saved_model_file = save_model_path\n",
    "\n",
    "        if val_mae > self.__latest_peak_mae:\n",
    "            # Si llevo N+ epochs sin mejora\n",
    "            if self.__waited_epochs >= self.__wait_epochs:\n",
    "                print(\"\\nStopping early at epoch {0} with saved peak mae {1:10.8}\"\n",
    "                      .format(epoch + 1, self.__latest_peak_mae))\n",
    "                stop_early = True\n",
    "            \n",
    "            self.__waited_epochs += 1\n",
    "            \n",
    "        else:\n",
    "            self.__latest_peak_mae = val_mae\n",
    "            # Reset waited epochs.\n",
    "            self.__waited_epochs = 0\n",
    "            \n",
    "        return stop_early\n",
    "        \n",
    "    def on_epoch_end(self, epoch, logs={}):\n",
    "        # print('\\nTraining: epoch {} ends at {}'.format(epoch, datetime.now().strftime(\"%d/%m/%Y %H:%M:%S\")))\n",
    "        if self.stopTraining(epoch, logs.get('val_loss')):\n",
    "            self.model.stop_training = True\n",
    "\n",
    "    @property\n",
    "    def saved_model_file(self):\n",
    "        return self.__saved_model_file\n",
    "    \n",
    "    def reset_waited_epochs(self):\n",
    "        self.__waited_epochs = 0;\n",
    "    \n",
    "\n",
    "# Instantiate a callback object\n",
    "callbackObj = MyCallback(40)"
   ]
  },
  {
   "cell_type": "code",
   "execution_count": 423,
   "metadata": {},
   "outputs": [
    {
     "name": "stdout",
     "output_type": "stream",
     "text": [
      "Epoch 1/10\n",
      "40/40 [==============================] - 6s 138ms/step - loss: 82.1276 - mse: 6910.4780 - val_loss: 59.3865 - val_mse: 3528.3660\n",
      "Epoch 2/10\n",
      "40/40 [==============================] - 5s 121ms/step - loss: 25.7873 - mse: 1042.8804 - val_loss: 4.9706 - val_mse: 54.2271\n",
      "Epoch 3/10\n",
      "40/40 [==============================] - 5s 122ms/step - loss: 4.2518 - mse: 32.2145 - val_loss: 3.3050 - val_mse: 17.6808\n",
      "Epoch 4/10\n",
      "40/40 [==============================] - 5s 122ms/step - loss: 2.7968 - mse: 15.3746 - val_loss: 2.2153 - val_mse: 7.7057\n",
      "Epoch 5/10\n",
      "40/40 [==============================] - 5s 122ms/step - loss: 1.8329 - mse: 6.0599 - val_loss: 1.3916 - val_mse: 3.2877\n",
      "Epoch 6/10\n",
      "40/40 [==============================] - 5s 122ms/step - loss: 1.4236 - mse: 3.2769 - val_loss: 1.1589 - val_mse: 2.0442\n",
      "Epoch 7/10\n",
      "40/40 [==============================] - 5s 122ms/step - loss: 1.1153 - mse: 2.0384 - val_loss: 1.1179 - val_mse: 1.9445\n",
      "Epoch 8/10\n",
      "40/40 [==============================] - 5s 123ms/step - loss: 0.9810 - mse: 1.6080 - val_loss: 0.8205 - val_mse: 1.1557\n",
      "Epoch 9/10\n",
      "40/40 [==============================] - 5s 122ms/step - loss: 0.8596 - mse: 1.2591 - val_loss: 0.7788 - val_mse: 1.0540\n",
      "Epoch 10/10\n",
      "40/40 [==============================] - 5s 123ms/step - loss: 0.7906 - mse: 1.0832 - val_loss: 0.7162 - val_mse: 0.9178\n"
     ]
    }
   ],
   "source": [
    "history = model.fit(tmp_train_batches,\n",
    "                    epochs=initial_epochs,\n",
    "                    validation_data=tmp_validation_batches)"
   ]
  },
  {
   "cell_type": "markdown",
   "metadata": {
    "colab_type": "text",
    "id": "Hd94CKImf8vi"
   },
   "source": [
    "### Learning curves\n",
    "\n",
    "Let's take a look at the learning curves of the training and validation accuracy/loss when using the MobileNet V2 base model as a fixed feature extractor."
   ]
  },
  {
   "cell_type": "code",
   "execution_count": 424,
   "metadata": {},
   "outputs": [
    {
     "name": "stdout",
     "output_type": "stream",
     "text": [
      "[0, 1, 2, 3, 4, 5, 6, 7, 8, 9]\n"
     ]
    }
   ],
   "source": [
    "print(history.epoch)"
   ]
  },
  {
   "cell_type": "code",
   "execution_count": 425,
   "metadata": {
    "colab": {},
    "colab_type": "code",
    "id": "53OTCh3jnbwV"
   },
   "outputs": [
    {
     "data": {
      "image/png": "[encoded data removed]",
      "text/plain": [
       "<Figure size 576x576 with 2 Axes>"
      ]
     },
     "metadata": {
      "needs_background": "light"
     },
     "output_type": "display_data"
    }
   ],
   "source": [
    "# Pablo Feb 25:\n",
    "# Python never implicitly copies objects. When you set list2 = list1, you are making them refer to the same exact\n",
    "# list object, so when you mutate it, all references to it keep referring to the object in its current state.\n",
    "mae = history.history['mse'].copy()\n",
    "val_mae = history.history['val_mse'].copy()\n",
    "\n",
    "loss = history.history['loss'].copy()\n",
    "val_loss = history.history['val_loss'].copy()\n",
    "\n",
    "plt.figure(figsize=(8, 8))\n",
    "plt.subplot(2, 1, 1)\n",
    "plt.plot(mae, label='Training MSE')\n",
    "plt.plot(val_mae, label='Validation MSE')\n",
    "plt.legend(loc='upper right')\n",
    "plt.ylabel('MSE')\n",
    "#plt.ylim([min(plt.ylim()),1])\n",
    "plt.title('Training and Validation MSE')\n",
    "\n",
    "plt.subplot(2, 1, 2)\n",
    "plt.plot(loss, label='Training Loss')\n",
    "plt.plot(val_loss, label='Validation Loss')\n",
    "plt.legend(loc='upper right')\n",
    "plt.ylabel('Loss')\n",
    "#plt.ylim([0,1.0])\n",
    "plt.title('Training and Validation Loss')\n",
    "plt.xlabel('epoch')\n",
    "plt.show()"
   ]
  },
  {
   "cell_type": "markdown",
   "metadata": {
    "colab_type": "text",
    "id": "foWMyyUHbc1j"
   },
   "source": [
    "Note: If you are wondering why the validation metrics are clearly better than the training metrics, the main factor is because layers like `tf.keras.layers.BatchNormalization` and `tf.keras.layers.Dropout` affect accuracy during training. They are turned off when calculating validation loss.\n",
    "\n",
    "To a lesser extent, it is also because training metrics report the average for an epoch, while validation metrics are evaluated after the epoch, so validation metrics see a model that has trained slightly longer."
   ]
  },
  {
   "cell_type": "markdown",
   "metadata": {
    "colab_type": "text",
    "id": "CqwV-CRdS6Nv"
   },
   "source": [
    "## Fine tuning\n",
    "In the feature extraction experiment, you were only training a few layers on top of an MobileNet V2 base model. The weights of the pre-trained network were **not** updated during training.\n",
    "\n",
    "One way to increase performance even further is to train (or \"fine-tune\") the weights of the top layers of the pre-trained model alongside the training of the classifier you added. The training process will force the weights to be tuned from generic feature maps to features associated specifically with the dataset.\n",
    "\n",
    "Note: This should only be attempted after you have trained the top-level classifier with the pre-trained model set to non-trainable. If you add a randomly initialized classifier on top of a pre-trained model and attempt to train all layers jointly, the magnitude of the gradient updates will be too large (due to the random weights from the classifier) and your pre-trained model will forget what it has learned.\n",
    "\n",
    "Also, you should try to fine-tune a small number of top layers rather than the whole MobileNet model. In most convolutional networks, the higher up a layer is, the more specialized it is. The first few layers learn very simple and generic features that generalize to almost all types of images. As you go higher up, the features are increasingly more specific to the dataset on which the model was trained. The goal of fine-tuning is to adapt these specialized features to work with the new dataset, rather than overwrite the generic learning."
   ]
  },
  {
   "cell_type": "markdown",
   "metadata": {
    "colab_type": "text",
    "id": "CPXnzUK0QonF"
   },
   "source": [
    "### Un-freeze the top layers of the model\n"
   ]
  },
  {
   "cell_type": "markdown",
   "metadata": {
    "colab_type": "text",
    "id": "rfxv_ifotQak"
   },
   "source": [
    "All you need to do is unfreeze the `base_model` and set the bottom layers to be un-trainable. Then, you should recompile the model (necessary for these changes to take effect), and resume training."
   ]
  },
  {
   "cell_type": "code",
   "execution_count": 426,
   "metadata": {
    "colab": {},
    "colab_type": "code",
    "id": "4nzcagVitLQm"
   },
   "outputs": [
    {
     "name": "stdout",
     "output_type": "stream",
     "text": [
      "layer   1, name: input_8\n",
      "layer   2, name: block1_conv1\n",
      "layer   3, name: block1_conv2\n",
      "layer   4, name: block1_pool\n",
      "layer   5, name: block2_conv1\n",
      "layer   6, name: block2_conv2\n",
      "layer   7, name: block2_pool\n",
      "layer   8, name: block3_conv1\n",
      "layer   9, name: block3_conv2\n",
      "layer  10, name: block3_conv3\n",
      "layer  11, name: block3_pool\n",
      "layer  12, name: block4_conv1\n",
      "layer  13, name: block4_conv2\n",
      "layer  14, name: block4_conv3\n",
      "layer  15, name: block4_pool\n",
      "layer  16, name: block5_conv1\n",
      "layer  17, name: block5_conv2\n",
      "layer  18, name: block5_conv3\n",
      "layer  19, name: block5_pool\n"
     ]
    }
   ],
   "source": [
    "base_model.trainable = True\n",
    "\n",
    "# Pablo Feb 25: me aseguro que las capas que a continuación *no* pongo como trainable (layer.trainable = False) sean\n",
    "# trainable.\n",
    "l = 1\n",
    "for layer in base_model.layers:\n",
    "    print('layer {:3d}, name: {}'.format(l, layer.name))\n",
    "    layer.trainable =  True\n",
    "    l += 1"
   ]
  },
  {
   "cell_type": "code",
   "execution_count": 427,
   "metadata": {
    "colab": {},
    "colab_type": "code",
    "id": "-4HgVAacRs5v"
   },
   "outputs": [
    {
     "name": "stdout",
     "output_type": "stream",
     "text": [
      "Number of layers in the base model:  19\n"
     ]
    }
   ],
   "source": [
    "# Let's take a look to see how many layers are in the base model\n",
    "print(\"Number of layers in the base model: \", len(base_model.layers))\n",
    "\n",
    "# Fine-tune from this layer onwards\n",
    "\n",
    "# fine_tune_at = 281 # InceptionV3, fine-tuning\n",
    "# fine_tune_at = 102 # InceptionV3, not so fine-tuning\n",
    "fine_tune_at = 12\n",
    "\n",
    "# Freeze all the layers before the `fine_tune_at` layer\n",
    "for layer in base_model.layers[:fine_tune_at]:\n",
    "    layer.trainable =  False"
   ]
  },
  {
   "cell_type": "markdown",
   "metadata": {
    "colab_type": "text",
    "id": "4Uk1dgsxT0IS"
   },
   "source": [
    "### Compile the model\n",
    "\n",
    "Compile the model using a much lower learning rate."
   ]
  },
  {
   "cell_type": "code",
   "execution_count": 428,
   "metadata": {},
   "outputs": [],
   "source": [
    "# This function keeps the learning rate at 0.001 for the first ten epochs\n",
    "# and decreases it exponentially after that.\n",
    "def lr_scheduler(epoch):\n",
    "    lr = base_learning_rate\n",
    "    #k = 0.15\n",
    "    #if epoch >= 10 and epoch <= 40:\n",
    "    #    lr = tf.math.exp(k * (10 - epoch)) * base_learning_rate\n",
    "    #    print(\"\\nlearning rate: %.8f\"%(lr))\n",
    "    if epoch >= 10 and epoch <= 30:\n",
    "        lr = base_learning_rate/10\n",
    "    elif epoch > 30 and epoch <= 60:\n",
    "        lr = base_learning_rate/100\n",
    "    elif epoch > 60:\n",
    "        lr = base_learning_rate/500\n",
    "    print(\"\\nlearning rate: %.6f\"%(lr))\n",
    "    \n",
    "    return lr\n",
    "    \n",
    "    \n",
    "callbackLR = tf.keras.callbacks.LearningRateScheduler(lr_scheduler)"
   ]
  },
  {
   "cell_type": "code",
   "execution_count": 429,
   "metadata": {
    "colab": {},
    "colab_type": "code",
    "id": "NtUnaz0WUDva"
   },
   "outputs": [],
   "source": [
    "# optimizer = tf.keras.optimizers.RMSprop(lr=base_learning_rate/10, momentum=0.95)\n",
    "optimizer = tf.keras.optimizers.Adam(learning_rate=base_learning_rate/10, epsilon=1e-08, amsgrad=True)\n",
    "model.compile(loss=tf.keras.losses.MeanAbsoluteError(),\n",
    "              optimizer = optimizer,\n",
    "              metrics=['mse'])"
   ]
  },
  {
   "cell_type": "code",
   "execution_count": 430,
   "metadata": {
    "colab": {},
    "colab_type": "code",
    "id": "WwBWy7J2kZvA"
   },
   "outputs": [
    {
     "name": "stdout",
     "output_type": "stream",
     "text": [
      "Model: \"sequential_7\"\n",
      "_________________________________________________________________\n",
      "Layer (type)                 Output Shape              Param #   \n",
      "=================================================================\n",
      "vgg16 (Model)                (None, 8, 8, 512)         14714688  \n",
      "_________________________________________________________________\n",
      "global_average_pooling2d_7 ( (None, 512)               0         \n",
      "_________________________________________________________________\n",
      "dense_14 (Dense)             (None, 512)               262656    \n",
      "_________________________________________________________________\n",
      "dense_15 (Dense)             (None, 1)                 513       \n",
      "=================================================================\n",
      "Total params: 14,977,857\n",
      "Trainable params: 12,062,209\n",
      "Non-trainable params: 2,915,648\n",
      "_________________________________________________________________\n"
     ]
    }
   ],
   "source": [
    "model.summary()"
   ]
  },
  {
   "cell_type": "code",
   "execution_count": 431,
   "metadata": {
    "colab": {},
    "colab_type": "code",
    "id": "bNXelbMQtonr"
   },
   "outputs": [
    {
     "data": {
      "text/plain": [
       "14"
      ]
     },
     "execution_count": 431,
     "metadata": {},
     "output_type": "execute_result"
    }
   ],
   "source": [
    "len(model.trainable_variables)"
   ]
  },
  {
   "cell_type": "markdown",
   "metadata": {
    "colab_type": "text",
    "id": "4G5O4jd6TuAG"
   },
   "source": [
    "### Continue training the model"
   ]
  },
  {
   "cell_type": "markdown",
   "metadata": {
    "colab_type": "text",
    "id": "0foWUN-yDLo_"
   },
   "source": [
    "If you trained to convergence earlier, this step will improve your accuracy by a few percentage points."
   ]
  },
  {
   "cell_type": "code",
   "execution_count": 432,
   "metadata": {
    "colab": {},
    "colab_type": "code",
    "id": "ECQLkAsFTlun"
   },
   "outputs": [
    {
     "name": "stdout",
     "output_type": "stream",
     "text": [
      "\n",
      "learning rate: 0.000100\n",
      "Epoch 11/110\n",
      "     40/Unknown - 6s 143ms/step - loss: 4.4334 - mse: 113.3751\n",
      "New peak val_mae reached: 0.7625\n",
      "./tmp/saved_models/1588128722.h5\n",
      "40/40 [==============================] - 7s 169ms/step - loss: 4.4347 - mse: 113.3751 - val_loss: 0.7625 - val_mse: 0.6654\n",
      "\n",
      "learning rate: 0.000100\n",
      "Epoch 12/110\n",
      "39/40 [============================>.] - ETA: 0s - loss: 0.3478 - mse: 0.3379\n",
      "New peak val_mae reached: 0.1947\n",
      "./tmp/saved_models/1588128728.h5\n",
      "40/40 [==============================] - 6s 155ms/step - loss: 0.3449 - mse: 0.3350 - val_loss: 0.1947 - val_mse: 0.1046\n",
      "\n",
      "learning rate: 0.000100\n",
      "Epoch 13/110\n",
      "40/40 [==============================] - 6s 149ms/step - loss: 0.2786 - mse: 0.2727 - val_loss: 0.2338 - val_mse: 0.0972\n",
      "\n",
      "learning rate: 0.000100\n",
      "Epoch 14/110\n",
      "40/40 [==============================] - 6s 152ms/step - loss: 0.2797 - mse: 0.2491 - val_loss: 0.2544 - val_mse: 0.1157\n",
      "\n",
      "learning rate: 0.000100\n",
      "Epoch 15/110\n",
      "40/40 [==============================] - 6s 151ms/step - loss: 0.2583 - mse: 0.2102 - val_loss: 0.5130 - val_mse: 0.3473\n",
      "\n",
      "learning rate: 0.000100\n",
      "Epoch 16/110\n",
      "40/40 [==============================] - 6s 151ms/step - loss: 0.2805 - mse: 0.2074 - val_loss: 0.2382 - val_mse: 0.1025\n",
      "\n",
      "learning rate: 0.000100\n",
      "Epoch 17/110\n",
      "40/40 [==============================] - 6s 150ms/step - loss: 0.2005 - mse: 0.1268 - val_loss: 0.2151 - val_mse: 0.1010\n",
      "\n",
      "learning rate: 0.000100\n",
      "Epoch 18/110\n",
      "39/40 [============================>.] - ETA: 0s - loss: 0.2042 - mse: 0.1129\n",
      "New peak val_mae reached: 0.1939\n",
      "./tmp/saved_models/1588128765.h5\n",
      "40/40 [==============================] - 6s 156ms/step - loss: 0.2106 - mse: 0.1170 - val_loss: 0.1939 - val_mse: 0.0957\n",
      "\n",
      "learning rate: 0.000100\n",
      "Epoch 19/110\n",
      "40/40 [==============================] - 6s 150ms/step - loss: 0.1803 - mse: 0.0914 - val_loss: 0.2023 - val_mse: 0.1016\n",
      "\n",
      "learning rate: 0.000100\n",
      "Epoch 20/110\n",
      "40/40 [==============================] - 6s 151ms/step - loss: 0.1812 - mse: 0.0835 - val_loss: 0.2684 - val_mse: 0.1273\n",
      "\n",
      "learning rate: 0.000100\n",
      "Epoch 21/110\n",
      "40/40 [==============================] - 6s 151ms/step - loss: 0.1516 - mse: 0.0658 - val_loss: 0.2144 - val_mse: 0.1163\n",
      "\n",
      "learning rate: 0.000100\n",
      "Epoch 22/110\n",
      "40/40 [==============================] - 6s 151ms/step - loss: 0.1826 - mse: 0.0701 - val_loss: 0.2363 - val_mse: 0.1315\n",
      "\n",
      "learning rate: 0.000100\n",
      "Epoch 23/110\n",
      "40/40 [==============================] - 6s 151ms/step - loss: 0.1645 - mse: 0.0702 - val_loss: 0.2004 - val_mse: 0.1032\n",
      "\n",
      "learning rate: 0.000100\n",
      "Epoch 24/110\n",
      "40/40 [==============================] - 6s 151ms/step - loss: 0.1376 - mse: 0.0556 - val_loss: 0.2046 - val_mse: 0.0987\n",
      "\n",
      "learning rate: 0.000100\n",
      "Epoch 25/110\n",
      "40/40 [==============================] - 6s 151ms/step - loss: 0.1455 - mse: 0.0543 - val_loss: 0.3286 - val_mse: 0.1965\n",
      "\n",
      "learning rate: 0.000100\n",
      "Epoch 26/110\n",
      "40/40 [==============================] - 6s 151ms/step - loss: 0.1532 - mse: 0.0649 - val_loss: 0.2100 - val_mse: 0.1084\n",
      "\n",
      "learning rate: 0.000100\n",
      "Epoch 27/110\n",
      "40/40 [==============================] - 6s 151ms/step - loss: 0.1428 - mse: 0.0540 - val_loss: 0.2966 - val_mse: 0.1556\n",
      "\n",
      "learning rate: 0.000100\n",
      "Epoch 28/110\n",
      "40/40 [==============================] - 6s 151ms/step - loss: 0.1301 - mse: 0.0527 - val_loss: 0.1967 - val_mse: 0.0946\n",
      "\n",
      "learning rate: 0.000100\n",
      "Epoch 29/110\n",
      "39/40 [============================>.] - ETA: 0s - loss: 0.1028 - mse: 0.0325\n",
      "New peak val_mae reached: 0.1914\n",
      "./tmp/saved_models/1588128831.h5\n",
      "40/40 [==============================] - 6s 156ms/step - loss: 0.1019 - mse: 0.0322 - val_loss: 0.1914 - val_mse: 0.0888\n",
      "\n",
      "learning rate: 0.000100\n",
      "Epoch 30/110\n",
      "39/40 [============================>.] - ETA: 0s - loss: 0.0963 - mse: 0.0290\n",
      "New peak val_mae reached: 0.1885\n",
      "./tmp/saved_models/1588128838.h5\n",
      "40/40 [==============================] - 6s 155ms/step - loss: 0.0954 - mse: 0.0287 - val_loss: 0.1885 - val_mse: 0.0928\n",
      "\n",
      "learning rate: 0.000100\n",
      "Epoch 31/110\n",
      "40/40 [==============================] - 6s 151ms/step - loss: 0.1239 - mse: 0.0363 - val_loss: 0.1922 - val_mse: 0.0879\n",
      "\n",
      "learning rate: 0.000010\n",
      "Epoch 32/110\n",
      "40/40 [==============================] - 6s 151ms/step - loss: 0.0742 - mse: 0.0225 - val_loss: 0.1930 - val_mse: 0.0899\n",
      "\n",
      "learning rate: 0.000010\n",
      "Epoch 33/110\n",
      "40/40 [==============================] - 6s 152ms/step - loss: 0.0566 - mse: 0.0173 - val_loss: 0.1925 - val_mse: 0.0891\n",
      "\n",
      "learning rate: 0.000010\n",
      "Epoch 34/110\n",
      "40/40 [==============================] - 6s 152ms/step - loss: 0.0478 - mse: 0.0159 - val_loss: 0.1896 - val_mse: 0.0899\n",
      "\n",
      "learning rate: 0.000010\n",
      "Epoch 35/110\n",
      "40/40 [==============================] - 6s 152ms/step - loss: 0.0453 - mse: 0.0148 - val_loss: 0.1922 - val_mse: 0.0890\n",
      "\n",
      "learning rate: 0.000010\n",
      "Epoch 36/110\n",
      "40/40 [==============================] - 6s 152ms/step - loss: 0.0417 - mse: 0.0141 - val_loss: 0.1894 - val_mse: 0.0903\n",
      "\n",
      "learning rate: 0.000010\n",
      "Epoch 37/110\n",
      "39/40 [============================>.] - ETA: 0s - loss: 0.0377 - mse: 0.0134\n",
      "New peak val_mae reached: 0.1872\n",
      "./tmp/saved_models/1588128880.h5\n",
      "40/40 [==============================] - 6s 156ms/step - loss: 0.0374 - mse: 0.0133 - val_loss: 0.1872 - val_mse: 0.0897\n",
      "\n",
      "learning rate: 0.000010\n",
      "Epoch 38/110\n",
      "40/40 [==============================] - 6s 151ms/step - loss: 0.0356 - mse: 0.0131 - val_loss: 0.1936 - val_mse: 0.0887\n",
      "\n",
      "learning rate: 0.000010\n",
      "Epoch 39/110\n",
      "40/40 [==============================] - 6s 151ms/step - loss: 0.0326 - mse: 0.0126 - val_loss: 0.1915 - val_mse: 0.0891\n",
      "\n",
      "learning rate: 0.000010\n",
      "Epoch 40/110\n",
      "40/40 [==============================] - 6s 151ms/step - loss: 0.0320 - mse: 0.0123 - val_loss: 0.1926 - val_mse: 0.0884\n",
      "\n",
      "learning rate: 0.000010\n",
      "Epoch 41/110\n",
      "40/40 [==============================] - 6s 152ms/step - loss: 0.0289 - mse: 0.0121 - val_loss: 0.1936 - val_mse: 0.0887\n",
      "\n",
      "learning rate: 0.000010\n",
      "Epoch 42/110\n",
      "40/40 [==============================] - 6s 151ms/step - loss: 0.0292 - mse: 0.0118 - val_loss: 0.1898 - val_mse: 0.0916\n",
      "\n",
      "learning rate: 0.000010\n",
      "Epoch 43/110\n",
      "40/40 [==============================] - 6s 152ms/step - loss: 0.0277 - mse: 0.0117 - val_loss: 0.1931 - val_mse: 0.0890\n",
      "\n",
      "learning rate: 0.000010\n",
      "Epoch 44/110\n",
      "40/40 [==============================] - 6s 151ms/step - loss: 0.0272 - mse: 0.0113 - val_loss: 0.1908 - val_mse: 0.0897\n",
      "\n",
      "learning rate: 0.000010\n",
      "Epoch 45/110\n",
      "40/40 [==============================] - 6s 151ms/step - loss: 0.0271 - mse: 0.0113 - val_loss: 0.1923 - val_mse: 0.0892\n",
      "\n",
      "learning rate: 0.000010\n",
      "Epoch 46/110\n",
      "40/40 [==============================] - 6s 152ms/step - loss: 0.0251 - mse: 0.0111 - val_loss: 0.1903 - val_mse: 0.0888\n",
      "\n",
      "learning rate: 0.000010\n",
      "Epoch 47/110\n",
      "40/40 [==============================] - 6s 151ms/step - loss: 0.0309 - mse: 0.0111 - val_loss: 0.1933 - val_mse: 0.0891\n",
      "\n",
      "learning rate: 0.000010\n",
      "Epoch 48/110\n",
      "40/40 [==============================] - 6s 151ms/step - loss: 0.0251 - mse: 0.0109 - val_loss: 0.1943 - val_mse: 0.0893\n",
      "\n",
      "learning rate: 0.000010\n",
      "Epoch 49/110\n",
      "40/40 [==============================] - 6s 151ms/step - loss: 0.0286 - mse: 0.0108 - val_loss: 0.1912 - val_mse: 0.0893\n",
      "\n",
      "learning rate: 0.000010\n",
      "Epoch 50/110\n",
      "40/40 [==============================] - 6s 152ms/step - loss: 0.0248 - mse: 0.0106 - val_loss: 0.1945 - val_mse: 0.0885\n",
      "\n",
      "learning rate: 0.000010\n",
      "Epoch 51/110\n",
      "40/40 [==============================] - 6s 152ms/step - loss: 0.0246 - mse: 0.0104 - val_loss: 0.1973 - val_mse: 0.0893\n",
      "\n",
      "learning rate: 0.000010\n",
      "Epoch 52/110\n",
      "40/40 [==============================] - 6s 151ms/step - loss: 0.0268 - mse: 0.0104 - val_loss: 0.1889 - val_mse: 0.0891\n",
      "\n",
      "learning rate: 0.000010\n",
      "Epoch 53/110\n",
      "40/40 [==============================] - 6s 152ms/step - loss: 0.0265 - mse: 0.0103 - val_loss: 0.1887 - val_mse: 0.0918\n",
      "\n",
      "learning rate: 0.000010\n",
      "Epoch 54/110\n",
      "40/40 [==============================] - 6s 151ms/step - loss: 0.0268 - mse: 0.0103 - val_loss: 0.1946 - val_mse: 0.0894\n",
      "\n",
      "learning rate: 0.000010\n",
      "Epoch 55/110\n",
      "40/40 [==============================] - 6s 152ms/step - loss: 0.0243 - mse: 0.0097 - val_loss: 0.1931 - val_mse: 0.0896\n",
      "\n",
      "learning rate: 0.000010\n",
      "Epoch 56/110\n",
      "40/40 [==============================] - 6s 152ms/step - loss: 0.0228 - mse: 0.0098 - val_loss: 0.1914 - val_mse: 0.0903\n",
      "\n",
      "learning rate: 0.000010\n",
      "Epoch 57/110\n"
     ]
    },
    {
     "name": "stdout",
     "output_type": "stream",
     "text": [
      "40/40 [==============================] - 6s 151ms/step - loss: 0.0255 - mse: 0.0095 - val_loss: 0.1892 - val_mse: 0.0910\n",
      "\n",
      "learning rate: 0.000010\n",
      "Epoch 58/110\n",
      "40/40 [==============================] - 6s 151ms/step - loss: 0.0243 - mse: 0.0095 - val_loss: 0.1965 - val_mse: 0.0895\n",
      "\n",
      "learning rate: 0.000010\n",
      "Epoch 59/110\n",
      "40/40 [==============================] - 6s 152ms/step - loss: 0.0206 - mse: 0.0092 - val_loss: 0.1962 - val_mse: 0.0897\n",
      "\n",
      "learning rate: 0.000010\n",
      "Epoch 60/110\n",
      "40/40 [==============================] - 6s 151ms/step - loss: 0.0215 - mse: 0.0090 - val_loss: 0.1909 - val_mse: 0.0910\n",
      "\n",
      "learning rate: 0.000010\n",
      "Epoch 61/110\n",
      "40/40 [==============================] - 6s 151ms/step - loss: 0.0190 - mse: 0.0089 - val_loss: 0.1912 - val_mse: 0.0894\n",
      "\n",
      "learning rate: 0.000002\n",
      "Epoch 62/110\n",
      "40/40 [==============================] - 6s 152ms/step - loss: 0.0159 - mse: 0.0087 - val_loss: 0.1923 - val_mse: 0.0894\n",
      "\n",
      "learning rate: 0.000002\n",
      "Epoch 63/110\n",
      "40/40 [==============================] - 6s 151ms/step - loss: 0.0131 - mse: 0.0085 - val_loss: 0.1930 - val_mse: 0.0893\n",
      "\n",
      "learning rate: 0.000002\n",
      "Epoch 64/110\n",
      "40/40 [==============================] - 6s 152ms/step - loss: 0.0127 - mse: 0.0085 - val_loss: 0.1925 - val_mse: 0.0893\n",
      "\n",
      "learning rate: 0.000002\n",
      "Epoch 65/110\n",
      "40/40 [==============================] - 6s 151ms/step - loss: 0.0120 - mse: 0.0085 - val_loss: 0.1924 - val_mse: 0.0892\n",
      "\n",
      "learning rate: 0.000002\n",
      "Epoch 66/110\n",
      "40/40 [==============================] - 6s 151ms/step - loss: 0.0118 - mse: 0.0084 - val_loss: 0.1924 - val_mse: 0.0891\n",
      "\n",
      "learning rate: 0.000002\n",
      "Epoch 67/110\n",
      "40/40 [==============================] - 6s 152ms/step - loss: 0.0122 - mse: 0.0084 - val_loss: 0.1919 - val_mse: 0.0891\n",
      "\n",
      "learning rate: 0.000002\n",
      "Epoch 68/110\n",
      "40/40 [==============================] - 6s 151ms/step - loss: 0.0116 - mse: 0.0084 - val_loss: 0.1923 - val_mse: 0.0893\n",
      "\n",
      "learning rate: 0.000002\n",
      "Epoch 69/110\n",
      "40/40 [==============================] - 6s 152ms/step - loss: 0.0112 - mse: 0.0084 - val_loss: 0.1925 - val_mse: 0.0895\n",
      "\n",
      "learning rate: 0.000002\n",
      "Epoch 70/110\n",
      "40/40 [==============================] - 6s 152ms/step - loss: 0.0109 - mse: 0.0084 - val_loss: 0.1919 - val_mse: 0.0895\n",
      "\n",
      "learning rate: 0.000002\n",
      "Epoch 71/110\n",
      "40/40 [==============================] - 6s 152ms/step - loss: 0.0107 - mse: 0.0083 - val_loss: 0.1925 - val_mse: 0.0893\n",
      "\n",
      "learning rate: 0.000002\n",
      "Epoch 72/110\n",
      "40/40 [==============================] - 6s 151ms/step - loss: 0.0112 - mse: 0.0083 - val_loss: 0.1922 - val_mse: 0.0894\n",
      "\n",
      "learning rate: 0.000002\n",
      "Epoch 73/110\n",
      "40/40 [==============================] - 6s 152ms/step - loss: 0.0113 - mse: 0.0083 - val_loss: 0.1925 - val_mse: 0.0894\n",
      "\n",
      "learning rate: 0.000002\n",
      "Epoch 74/110\n",
      "40/40 [==============================] - 6s 151ms/step - loss: 0.0107 - mse: 0.0082 - val_loss: 0.1917 - val_mse: 0.0896\n",
      "\n",
      "learning rate: 0.000002\n",
      "Epoch 75/110\n",
      "40/40 [==============================] - 6s 151ms/step - loss: 0.0131 - mse: 0.0082 - val_loss: 0.1920 - val_mse: 0.0895\n",
      "\n",
      "learning rate: 0.000002\n",
      "Epoch 76/110\n",
      "40/40 [==============================] - 6s 151ms/step - loss: 0.0108 - mse: 0.0082 - val_loss: 0.1924 - val_mse: 0.0894\n",
      "\n",
      "learning rate: 0.000002\n",
      "Epoch 77/110\n",
      "40/40 [==============================] - 6s 151ms/step - loss: 0.0105 - mse: 0.0082 - val_loss: 0.1920 - val_mse: 0.0892\n",
      "\n",
      "learning rate: 0.000002\n",
      "Epoch 78/110\n",
      "39/40 [============================>.] - ETA: 0s - loss: 0.0108 - mse: 0.0082\n",
      "Stopping early at epoch 78 with saved peak mae  0.1871765\n",
      "40/40 [==============================] - 6s 151ms/step - loss: 0.0106 - mse: 0.0081 - val_loss: 0.1920 - val_mse: 0.0896\n"
     ]
    }
   ],
   "source": [
    "fine_tune_epochs = 100\n",
    "total_epochs =  (history.epoch[-1]+1) + fine_tune_epochs\n",
    "\n",
    "history_fine = model.fit(tmp_train_batches,\n",
    "                         epochs=total_epochs,\n",
    "                         initial_epoch =  history.epoch[-1]+1,\n",
    "                         validation_data=tmp_validation_batches,\n",
    "                         callbacks=[callbackObj, callbackLR])"
   ]
  },
  {
   "cell_type": "markdown",
   "metadata": {
    "colab_type": "text",
    "id": "TfXEmsxQf6eP"
   },
   "source": [
    "Let's take a look at the learning curves of the training and validation accuracy/loss when fine-tuning the last few layers of the MobileNet V2 base model and training the classifier on top of it. The validation loss is much higher than the training loss, so you may get some overfitting.\n",
    "\n",
    "You may also get some overfitting as the new training set is relatively small and similar to the original MobileNet V2 datasets.\n"
   ]
  },
  {
   "cell_type": "markdown",
   "metadata": {
    "colab_type": "text",
    "id": "DNtfNZKlInGT"
   },
   "source": [
    "After fine tuning the model nearly reaches 98% accuracy."
   ]
  },
  {
   "cell_type": "code",
   "execution_count": 433,
   "metadata": {},
   "outputs": [
    {
     "name": "stdout",
     "output_type": "stream",
     "text": [
      "[10, 11, 12, 13, 14, 15, 16, 17, 18, 19, 20, 21, 22, 23, 24, 25, 26, 27, 28, 29, 30, 31, 32, 33, 34, 35, 36, 37, 38, 39, 40, 41, 42, 43, 44, 45, 46, 47, 48, 49, 50, 51, 52, 53, 54, 55, 56, 57, 58, 59, 60, 61, 62, 63, 64, 65, 66, 67, 68, 69, 70, 71, 72, 73, 74, 75, 76, 77]\n"
     ]
    }
   ],
   "source": [
    "print(history_fine.epoch)"
   ]
  },
  {
   "cell_type": "code",
   "execution_count": 434,
   "metadata": {
    "colab": {},
    "colab_type": "code",
    "id": "PpA8PlpQKygw"
   },
   "outputs": [],
   "source": [
    "mae += history_fine.history['mse']\n",
    "val_mae += history_fine.history['val_mse']\n",
    "\n",
    "loss += history_fine.history['loss']\n",
    "val_loss += history_fine.history['val_loss']"
   ]
  },
  {
   "cell_type": "code",
   "execution_count": 435,
   "metadata": {},
   "outputs": [],
   "source": [
    "mae = mae[1:]\n",
    "val_mae = val_mae[1:]\n",
    "loss = loss[1:]\n",
    "val_loss = val_loss[1:]"
   ]
  },
  {
   "cell_type": "code",
   "execution_count": 436,
   "metadata": {
    "colab": {},
    "colab_type": "code",
    "id": "chW103JUItdk"
   },
   "outputs": [
    {
     "data": {
      "image/png": "[encoded data removed]",
      "text/plain": [
       "<Figure size 576x576 with 2 Axes>"
      ]
     },
     "metadata": {
      "needs_background": "light"
     },
     "output_type": "display_data"
    }
   ],
   "source": [
    "plt.figure(figsize=(8, 8))\n",
    "plt.subplot(2, 1, 1)\n",
    "plt.plot(mae, label='Training MSE')\n",
    "plt.plot(val_mae, label='Validation MSE')\n",
    "#plt.ylim([0, 40])\n",
    "plt.plot([initial_epochs-1,initial_epochs-1],\n",
    "          plt.ylim(), label='Fine Tuning starts')\n",
    "plt.legend(loc='upper right')\n",
    "plt.ylabel('MSE')\n",
    "plt.title('Training and Validation MSE')\n",
    "\n",
    "plt.subplot(2, 1, 2)\n",
    "plt.plot(loss, label='Training Loss')\n",
    "plt.plot(val_loss, label='Validation Loss')\n",
    "#plt.ylim([0, 2000])\n",
    "plt.plot([initial_epochs-1,initial_epochs-1],\n",
    "         plt.ylim(), label='Fine Tuning Starts')\n",
    "plt.legend(loc='upper right')\n",
    "plt.ylabel('Loss')\n",
    "plt.title('Training and Validation Loss')\n",
    "plt.xlabel('epoch')\n",
    "plt.show()"
   ]
  },
  {
   "cell_type": "markdown",
   "metadata": {
    "colab_type": "text",
    "id": "_TZTwG7nhm0C"
   },
   "source": [
    "## Summary:\n",
    "\n",
    "* **Using a pre-trained model for feature extraction**:  When working with a small dataset, it is a common practice to take advantage of features learned by a model trained on a larger dataset in the same domain. This is done by instantiating the pre-trained model and adding a fully-connected classifier on top. The pre-trained model is \"frozen\" and only the weights of the classifier get updated during training.\n",
    "In this case, the convolutional base extracted all the features associated with each image and you just trained a classifier that determines the image class given that set of extracted features.\n",
    "\n",
    "* **Fine-tuning a pre-trained model**: To further improve performance, one might want to repurpose the top-level layers of the pre-trained models to the new dataset via fine-tuning.\n",
    "In this case, you tuned your weights such that your model learned high-level features specific to the dataset. This technique is usually recommended when the training dataset is large and very similar to the original dataset that the pre-trained model was trained on.\n"
   ]
  },
  {
   "cell_type": "code",
   "execution_count": 437,
   "metadata": {},
   "outputs": [
    {
     "name": "stdout",
     "output_type": "stream",
     "text": [
      "Model ./tmp/saved_models/1588128880.h5 loaded\n"
     ]
    }
   ],
   "source": [
    "# Load de model and change learning rate\n",
    "reloaded_model = tf.keras.models.load_model(callbackObj.saved_model_file)\n",
    "print('Model {} loaded'.format(callbackObj.saved_model_file))"
   ]
  },
  {
   "cell_type": "code",
   "execution_count": 438,
   "metadata": {},
   "outputs": [
    {
     "name": "stdout",
     "output_type": "stream",
     "text": [
      "Reloaded model, train loss: 0.0439\n",
      "Reloaded model, train mae: 0.0139\n"
     ]
    }
   ],
   "source": [
    "# Evaluate the reloaded model on the train set which differs from values reported during training\n",
    "loss, mae = reloaded_model.evaluate(tmp_train_batches, verbose=2)\n",
    "print(\"Reloaded model, train loss: {:5.4f}\".format(loss))\n",
    "print('Reloaded model, train mae: {:5.4f}'.format(mae))"
   ]
  },
  {
   "cell_type": "code",
   "execution_count": 439,
   "metadata": {},
   "outputs": [],
   "source": [
    "#result_batch = model.predict(tmp_train_batches)\n",
    "#reloaded_result_batch = reloaded_model.predict(tmp_train_batches)\n",
    "#print(abs(reloaded_result_batch - result_batch).max())\n",
    "#np.testing.assert_allclose(result_batch, reloaded_result_batch, rtol=1e-6, atol=1e-6)"
   ]
  },
  {
   "cell_type": "code",
   "execution_count": 440,
   "metadata": {},
   "outputs": [],
   "source": [
    "# projects out just the first two components.\n",
    "if not donottest:\n",
    "    tmp_test_batches = test_batches.map(lambda image, gamma, filename: (image, gamma))\n",
    "    print(tmp_test_batches)\n",
    "\n",
    "    # Evaluate the reloaded model on the test set\n",
    "    loss, mae = reloaded_model.evaluate(tmp_test_batches, verbose=1)\n",
    "    print(\"\\n\\nReloaded model, test loss: {:5.4f}\".format(loss))\n",
    "    print('Reloaded model, test mae: {:5.4f}'.format(mae))"
   ]
  },
  {
   "cell_type": "code",
   "execution_count": null,
   "metadata": {},
   "outputs": [],
   "source": []
  }
 ],
 "metadata": {
  "accelerator": "GPU",
  "colab": {
   "collapsed_sections": [],
   "name": "transfer_learning.ipynb",
   "private_outputs": true,
   "provenance": [],
   "toc_visible": true
  },
  "kernelspec": {
   "display_name": "Python 3",
   "language": "python",
   "name": "python3"
  },
  "language_info": {
   "codemirror_mode": {
    "name": "ipython",
    "version": 3
   },
   "file_extension": ".py",
   "mimetype": "text/x-python",
   "name": "python",
   "nbconvert_exporter": "python",
   "pygments_lexer": "ipython3",
   "version": "3.7.5"
  }
 },
 "nbformat": 4,
 "nbformat_minor": 1
}
