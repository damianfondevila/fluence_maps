{
  "nbformat": 4,
  "nbformat_minor": 0,
  "metadata": {
    "colab": {
      "name": "tf2_evaluate",
      "provenance": [],
      "collapsed_sections": [],
      "toc_visible": true,
      "authorship_tag": "ABX9TyNySv+E4JKawJs5pwIJ6WL4"
    },
    "kernelspec": {
      "name": "python3",
      "display_name": "Python 3"
    }
  },
  "cells": [
    {
      "cell_type": "markdown",
      "metadata": {
        "id": "-n_PAVFGnZDx",
        "colab_type": "text"
      },
      "source": [
        "# Compute predictions on a TF dataset using an stored .h5 model"
      ]
    },
    {
      "cell_type": "code",
      "metadata": {
        "id": "A85nWqMEnKPB",
        "colab_type": "code",
        "outputId": "af2b35ba-d2f2-4039-f302-2d89fa3ff909",
        "colab": {
          "base_uri": "https://localhost:8080/",
          "height": 136
        }
      },
      "source": [
        "import os\n",
        "\n",
        "%cd -q '/content'\n",
        "if os.path.exists('fluence_maps'):\n",
        "  !rm -fr fluence_maps\n",
        "\n",
        "GIT_USERNAME = \"pablojrios\"\n",
        "GIT_TOKEN = \"1d88a0b85d2b00a03796e4d8b7e5f7b249b12f9b\"\n",
        "!git clone -s https://{GIT_TOKEN}@github.com/{GIT_USERNAME}/fluence_maps.git"
      ],
      "execution_count": 1,
      "outputs": [
        {
          "output_type": "stream",
          "text": [
            "Cloning into 'fluence_maps'...\n",
            "remote: Enumerating objects: 118, done.\u001b[K\n",
            "remote: Counting objects: 100% (118/118), done.\u001b[K\n",
            "remote: Compressing objects: 100% (104/104), done.\u001b[K\n",
            "remote: Total 118 (delta 62), reused 36 (delta 13), pack-reused 0\u001b[K\n",
            "Receiving objects: 100% (118/118), 273.86 KiB | 1.05 MiB/s, done.\n",
            "Resolving deltas: 100% (62/62), done.\n"
          ],
          "name": "stdout"
        }
      ]
    },
    {
      "cell_type": "code",
      "metadata": {
        "id": "4LvLPLr5n_yJ",
        "colab_type": "code",
        "outputId": "4746aae9-1293-42bf-9a32-c986eeb6c979",
        "colab": {
          "base_uri": "https://localhost:8080/",
          "height": 34
        }
      },
      "source": [
        "import numpy as np\n",
        "import tensorflow as tf\n",
        "%cd '/content/fluence_maps'\n",
        "from util.dataset import _tfrecord_dataset_type_from_folder, _parse_jpeg_image_function\n",
        "from util.preprocess import rescale_min_1_to_1\n",
        "import os\n",
        "import pandas as pd"
      ],
      "execution_count": 2,
      "outputs": [
        {
          "output_type": "stream",
          "text": [
            "/content/fluence_maps\n"
          ],
          "name": "stdout"
        }
      ]
    },
    {
      "cell_type": "code",
      "metadata": {
        "id": "LN_LGyd6pWeZ",
        "colab_type": "code",
        "outputId": "85002095-37b9-495d-90ef-47e7bd5e92cf",
        "colab": {
          "base_uri": "https://localhost:8080/",
          "height": 51
        }
      },
      "source": [
        "print('Tensorflow version = {}'.format(tf.__version__))\n",
        "print('Executing eagerly = {}'.format(tf.executing_eagerly()))"
      ],
      "execution_count": 3,
      "outputs": [
        {
          "output_type": "stream",
          "text": [
            "Tensorflow version = 2.2.0-rc4\n",
            "Executing eagerly = True\n"
          ],
          "name": "stdout"
        }
      ]
    },
    {
      "cell_type": "code",
      "metadata": {
        "id": "pzL176Gmq_KA",
        "colab_type": "code",
        "outputId": "1aa61673-4cc4-49ac-afa0-e996be035943",
        "colab": {
          "base_uri": "https://localhost:8080/",
          "height": 122
        }
      },
      "source": [
        "from google.colab import drive\n",
        "drive.mount('/content/drive')"
      ],
      "execution_count": 4,
      "outputs": [
        {
          "output_type": "stream",
          "text": [
            "Go to this URL in a browser: https://accounts.google.com/o/oauth2/auth?client_id=947318989803-6bn6qk8qdgf4n4g3pfee6491hc0brc4i.apps.googleusercontent.com&redirect_uri=urn%3aietf%3awg%3aoauth%3a2.0%3aoob&response_type=code&scope=email%20https%3a%2f%2fwww.googleapis.com%2fauth%2fdocs.test%20https%3a%2f%2fwww.googleapis.com%2fauth%2fdrive%20https%3a%2f%2fwww.googleapis.com%2fauth%2fdrive.photos.readonly%20https%3a%2f%2fwww.googleapis.com%2fauth%2fpeopleapi.readonly\n",
            "\n",
            "Enter your authorization code:\n",
            "··········\n",
            "Mounted at /content/drive\n"
          ],
          "name": "stdout"
        }
      ]
    },
    {
      "cell_type": "code",
      "metadata": {
        "id": "eWlKtT6Kpbsr",
        "colab_type": "code",
        "colab": {}
      },
      "source": [
        "#============================DEFINE YOUR ARGUMENTS==============================\n",
        "# base data directory\n",
        "ARG_DATASET_DIR='/content/drive/My Drive/Healthcare/Radioterapia/data/ciolaplata'\n",
        "# folder under ARG_DATASET_DIR path.\n",
        "ARG_TFDATASET_FOLDER='tfds.2019.pablo'\n",
        "ARG_MODEL_NAME = '1588803713'\n",
        "ARG_PART = 'train'"
      ],
      "execution_count": 0,
      "outputs": []
    },
    {
      "cell_type": "code",
      "metadata": {
        "id": "K2-IdOEGqmU1",
        "colab_type": "code",
        "outputId": "ada1d3ec-d89e-4364-8aa8-0b0f2338e7d5",
        "colab": {
          "base_uri": "https://localhost:8080/",
          "height": 34
        }
      },
      "source": [
        "tfdataset_dir = os.path.join(ARG_DATASET_DIR, ARG_TFDATASET_FOLDER)\n",
        "raw_test = _tfrecord_dataset_type_from_folder(tfdataset_dir, ARG_PART)\n",
        "print(raw_test)"
      ],
      "execution_count": 7,
      "outputs": [
        {
          "output_type": "stream",
          "text": [
            "<TFRecordDatasetV2 shapes: (), types: tf.string>\n"
          ],
          "name": "stdout"
        }
      ]
    },
    {
      "cell_type": "code",
      "metadata": {
        "id": "tfTOOGlJrYIr",
        "colab_type": "code",
        "outputId": "f736826d-cb80-435b-8761-3f4e5ec2711e",
        "colab": {
          "base_uri": "https://localhost:8080/",
          "height": 34
        }
      },
      "source": [
        "# Apply this function to each item in the dataset using the map method:\n",
        "num_workers = 8\n",
        "IMG_SIZE = 256\n",
        "normalization_fn = rescale_min_1_to_1\n",
        "test = raw_test.map(lambda e: _parse_jpeg_image_function(e, IMG_SIZE, normalization_fn), num_parallel_calls=num_workers)\n",
        "print(test)"
      ],
      "execution_count": 8,
      "outputs": [
        {
          "output_type": "stream",
          "text": [
            "<ParallelMapDataset shapes: ((256, 256, 3), (), ()), types: (tf.float32, tf.float32, tf.string)>\n"
          ],
          "name": "stdout"
        }
      ]
    },
    {
      "cell_type": "code",
      "metadata": {
        "id": "3yG0Vf93rmOw",
        "colab_type": "code",
        "outputId": "d27bc4a1-036c-40e2-9607-7c4ed56e19e6",
        "colab": {
          "base_uri": "https://localhost:8080/",
          "height": 34
        }
      },
      "source": [
        "gamma_values = test.map(lambda image, gamma, filename: gamma)\n",
        "gamma_values = np.array(list(gamma_values.as_numpy_iterator()))\n",
        "BATCH_SIZE = 32 # mae puede variar según batch size.\n",
        "test_batches = test.batch(BATCH_SIZE)\n",
        "print(test_batches)"
      ],
      "execution_count": 9,
      "outputs": [
        {
          "output_type": "stream",
          "text": [
            "<BatchDataset shapes: ((None, 256, 256, 3), (None,), (None,)), types: (tf.float32, tf.float32, tf.string)>\n"
          ],
          "name": "stdout"
        }
      ]
    },
    {
      "cell_type": "code",
      "metadata": {
        "id": "tjrt80mNr0a4",
        "colab_type": "code",
        "colab": {
          "base_uri": "https://localhost:8080/",
          "height": 34
        },
        "outputId": "2c262ba7-1fe7-4531-8f46-0b5507f913c8"
      },
      "source": [
        "# load model\n",
        "dir = os.path.join(ARG_DATASET_DIR, \"models\")\n",
        "saved_model_dir = '{}/{}.h5'.format(dir, ARG_MODEL_NAME)\n",
        "print(f'Loading model {saved_model_dir}...')\n",
        "loaded_model = tf.keras.models.load_model(saved_model_dir)"
      ],
      "execution_count": 11,
      "outputs": [
        {
          "output_type": "stream",
          "text": [
            "Loading model /content/drive/My Drive/Healthcare/Radioterapia/data/ciolaplata/models/1588803713.h5...\n"
          ],
          "name": "stdout"
        }
      ]
    },
    {
      "cell_type": "code",
      "metadata": {
        "id": "ZEaSI7qj86Um",
        "colab_type": "code",
        "colab": {
          "base_uri": "https://localhost:8080/",
          "height": 102
        },
        "outputId": "e0144e36-5a4b-4f2e-b73c-e190bf4cd1f1"
      },
      "source": [
        "# Evaluate dataset with the loaded model to calculate loss (mae) because\n",
        "# metric value could differ from the one reported during training.\n",
        "tmp_test_batches = test_batches.map(lambda image, gamma, filename: (image, gamma))\n",
        "print(tmp_test_batches)\n",
        "loss, mse = loaded_model.evaluate(tmp_test_batches, workers=num_workers, verbose=0)\n",
        "print('\\n\\nLoaded model, test loss: {:5.4f}'.format(loss))\n",
        "print('Loaded model, test mse: {:5.4f}'.format(mse))"
      ],
      "execution_count": 13,
      "outputs": [
        {
          "output_type": "stream",
          "text": [
            "<MapDataset shapes: ((None, 256, 256, 3), (None,)), types: (tf.float32, tf.float32)>\n",
            "\n",
            "\n",
            "Loaded model, test loss: 0.0856\n",
            "Loaded model, test mse: 0.0345\n"
          ],
          "name": "stdout"
        }
      ]
    },
    {
      "cell_type": "code",
      "metadata": {
        "id": "ctN7LhzY9I3n",
        "colab_type": "code",
        "colab": {}
      },
      "source": [
        "# Make predictions\n",
        "predictions = loaded_model.predict(tmp_test_batches)\n",
        "# from (1121,1) to (1121,); ie.: ndim = 2 to ndim = 1\n",
        "predictions = predictions.reshape(-1)"
      ],
      "execution_count": 0,
      "outputs": []
    },
    {
      "cell_type": "code",
      "metadata": {
        "id": "NkoSrJyh9jtR",
        "colab_type": "code",
        "colab": {
          "base_uri": "https://localhost:8080/",
          "height": 54
        },
        "outputId": "d166501d-948c-4fee-c7d0-2cdf33f31d1f"
      },
      "source": [
        "tmp_test_batches = test.map(lambda image, gamma, filename: (filename, gamma))\n",
        "list = [(filename.numpy().decode('utf-8'), gamma.numpy()) for filename, gamma in tmp_test_batches]\n",
        "list2 = [(e[0], e[1], p) for e, p in zip(list, predictions)]\n",
        "\n",
        "# armar un pandas dataframe con el test set completo\n",
        "df = pd.DataFrame(list2, columns=['filename', 'actual gamma', 'predicted gamma'])\n",
        "dir = os.path.join(ARG_DATASET_DIR, \"predictions\")\n",
        "predictions_file_path = '{}/predicted_gamma_{}.{}.csv'.format(dir, ARG_MODEL_NAME, ARG_PART)\n",
        "df.to_csv(predictions_file_path, index=False)\n",
        "print(f'Predictions saved to {predictions_file_path}.')"
      ],
      "execution_count": 18,
      "outputs": [
        {
          "output_type": "stream",
          "text": [
            "Predictions saved to /content/drive/My Drive/Healthcare/Radioterapia/data/ciolaplata/predictions/predicted_gamma_1588803713.train.csv.\n"
          ],
          "name": "stdout"
        }
      ]
    }
  ]
}