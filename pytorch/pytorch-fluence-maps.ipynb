{
 "cells": [
  {
   "cell_type": "markdown",
   "metadata": {},
   "source": [
    "# IMRT fluence maps and the power of transfer learning\n",
    "\n",
    "The goal of this notebook is to predict gamma index values of calculated fluence maps in IMRT."
   ]
  },
  {
   "cell_type": "code",
   "execution_count": 1,
   "metadata": {},
   "outputs": [],
   "source": [
    "%reload_ext autoreload\n",
    "%autoreload 2\n",
    "%matplotlib inline\n",
    "\n",
    "import pandas as pd\n",
    "import numpy as np\n",
    "import torch\n",
    "from pathlib import Path\n",
    "from torch.utils.data import Dataset, DataLoader\n",
    "import torch.optim as optim\n",
    "import torch.nn as nn\n",
    "import torch.nn.functional as F\n",
    "from torchvision import models\n",
    "import random"
   ]
  },
  {
   "cell_type": "code",
   "execution_count": 2,
   "metadata": {},
   "outputs": [],
   "source": [
    "import cv2\n",
    "import matplotlib.pyplot as plt "
   ]
  },
  {
   "cell_type": "markdown",
   "metadata": {},
   "source": [
    "## Data"
   ]
  },
  {
   "cell_type": "markdown",
   "metadata": {},
   "source": [
    "Fluence maps are read from JPEG files, which are generated from DICOM files in RT Dose format, using __fluence_maps/util/dicom2jpeg.py__"
   ]
  },
  {
   "cell_type": "code",
   "execution_count": 3,
   "metadata": {},
   "outputs": [
    {
     "data": {
      "text/plain": [
       "[PosixPath('/home/pablo/datasets/data/radioterapia/ciolaplata/2018-jpeg/1.3.6.1.4.1.9590.100.1.2.64421801711636623808828443423123138967.jpeg'),\n",
       " PosixPath('/home/pablo/datasets/data/radioterapia/ciolaplata/2019-jpeg/1.3.6.1.4.1.9590.100.1.2.217810440312374316116461127011521168136.jpeg'),\n",
       " PosixPath('/home/pablo/datasets/data/radioterapia/ciolaplata/2018-jpeg/1.3.6.1.4.1.9590.100.1.2.321147725811938695101536444513293432581.jpeg'),\n",
       " PosixPath('/home/pablo/datasets/data/radioterapia/ciolaplata/2019-jpeg/1.3.6.1.4.1.9590.100.1.2.304275504210078777001252975971455271810.jpeg'),\n",
       " PosixPath('/home/pablo/datasets/data/radioterapia/ciolaplata/2018-jpeg/1.3.6.1.4.1.9590.100.1.2.175014881511127316913354234003438051973.jpeg'),\n",
       " PosixPath('/home/pablo/datasets/data/radioterapia/ciolaplata/2019-jpeg/1.3.6.1.4.1.9590.100.1.2.357807871711095388221318908644010339204.jpeg'),\n",
       " PosixPath('/home/pablo/datasets/data/radioterapia/ciolaplata/2018-jpeg/1.3.6.1.4.1.9590.100.1.2.346803789811308778140045861640862030652.jpeg'),\n",
       " PosixPath('/home/pablo/datasets/data/radioterapia/ciolaplata/2019-jpeg/1.3.6.1.4.1.9590.100.1.2.203917690713195625523532765513396108088.jpeg'),\n",
       " PosixPath('/home/pablo/datasets/data/radioterapia/ciolaplata/2018-jpeg/1.3.6.1.4.1.9590.100.1.2.262490985910741771138421787122055158365.jpeg'),\n",
       " PosixPath('/home/pablo/datasets/data/radioterapia/ciolaplata/2018-jpeg/1.3.6.1.4.1.9590.100.1.2.354941586612032654717281653050716088540.jpeg')]"
      ]
     },
     "execution_count": 3,
     "metadata": {},
     "output_type": "execute_result"
    }
   ],
   "source": [
    "np.random.seed(12345)\n",
    "PATH = Path(\"/home/pablo/datasets/data/radioterapia/ciolaplata/\")\n",
    "path = PATH/\"2018-jpeg/\"\n",
    "path2 = PATH/\"2019-jpeg/\"\n",
    "list_all = list(path.iterdir())+list(path2.iterdir())\n",
    "random.shuffle(list_all)\n",
    "list_all[:10]"
   ]
  },
  {
   "cell_type": "code",
   "execution_count": 4,
   "metadata": {},
   "outputs": [],
   "source": [
    "def read_image(path):\n",
    "    im = cv2.imread(str(path))\n",
    "    return im"
   ]
  },
  {
   "cell_type": "code",
   "execution_count": 5,
   "metadata": {},
   "outputs": [
    {
     "data": {
      "text/plain": [
       "<matplotlib.image.AxesImage at 0x7fdced10b2d0>"
      ]
     },
     "execution_count": 5,
     "metadata": {},
     "output_type": "execute_result"
    },
    {
     "data": {
      "image/png": "[encoded data removed]",
      "text/plain": [
       "<Figure size 432x288 with 1 Axes>"
      ]
     },
     "metadata": {
      "needs_background": "light"
     },
     "output_type": "display_data"
    }
   ],
   "source": [
    "path = PATH/\"2018-jpeg/1.3.6.1.4.1.9590.100.1.2.310116611339769406079254153056253359.jpeg\"\n",
    "im = read_image(path)\n",
    "plt.imshow(im)"
   ]
  },
  {
   "cell_type": "code",
   "execution_count": 6,
   "metadata": {},
   "outputs": [
    {
     "data": {
      "text/plain": [
       "(256, 256, 3)"
      ]
     },
     "execution_count": 6,
     "metadata": {},
     "output_type": "execute_result"
    }
   ],
   "source": [
    "im = cv2.imread(str(path))\n",
    "im.shape"
   ]
  },
  {
   "cell_type": "code",
   "execution_count": 7,
   "metadata": {},
   "outputs": [],
   "source": [
    "# let's look at the typical size of these images\n",
    "files = list_all[:1000]\n",
    "dims = [read_image(str(p)).shape for p in files]"
   ]
  },
  {
   "cell_type": "code",
   "execution_count": 8,
   "metadata": {},
   "outputs": [
    {
     "data": {
      "text/plain": [
       "array([  3, 256])"
      ]
     },
     "execution_count": 8,
     "metadata": {},
     "output_type": "execute_result"
    }
   ],
   "source": [
    "np.unique(dims)"
   ]
  },
  {
   "cell_type": "markdown",
   "metadata": {},
   "source": [
    "Amazing! all images have the same size."
   ]
  },
  {
   "cell_type": "markdown",
   "metadata": {},
   "source": [
    "## Data augmentation\n",
    "Data augmentation is the most important way to avoid overfitting for image classification task\n",
    "\n",
    "_Pablo: Don't do data augmentation for fluence maps_"
   ]
  },
  {
   "cell_type": "markdown",
   "metadata": {},
   "source": [
    "## Split train and validation"
   ]
  },
  {
   "cell_type": "markdown",
   "metadata": {},
   "source": [
    "_Pablo: Not all fluence map files have a gamma value in the gamma .csv file, so we need to split the gamma .csv file and not the map files in the file system._"
   ]
  },
  {
   "cell_type": "code",
   "execution_count": 9,
   "metadata": {},
   "outputs": [],
   "source": [
    "# from sklearn.model_selection import train_test_split\n",
    "# all_files = list(PATH.iterdir())\n",
    "# X_train, X_test = train_test_split(all_files, test_size=0.2, random_state=12345)"
   ]
  },
  {
   "cell_type": "code",
   "execution_count": 10,
   "metadata": {},
   "outputs": [],
   "source": [
    "# print(len(X_train), len(X_test))"
   ]
  },
  {
   "cell_type": "code",
   "execution_count": 11,
   "metadata": {},
   "outputs": [
    {
     "data": {
      "text/html": [
       "<div>\n",
       "<style scoped>\n",
       "    .dataframe tbody tr th:only-of-type {\n",
       "        vertical-align: middle;\n",
       "    }\n",
       "\n",
       "    .dataframe tbody tr th {\n",
       "        vertical-align: top;\n",
       "    }\n",
       "\n",
       "    .dataframe thead th {\n",
       "        text-align: right;\n",
       "    }\n",
       "</style>\n",
       "<table border=\"1\" class=\"dataframe\">\n",
       "  <thead>\n",
       "    <tr style=\"text-align: right;\">\n",
       "      <th></th>\n",
       "      <th>año</th>\n",
       "      <th>fluencia medida</th>\n",
       "      <th>fluencia calculada</th>\n",
       "      <th>uno menos gamma index</th>\n",
       "    </tr>\n",
       "  </thead>\n",
       "  <tbody>\n",
       "    <tr>\n",
       "      <th>0</th>\n",
       "      <td>2019</td>\n",
       "      <td>1.3.6.1.4.1.9590.100.1.2.106363004312018285639...</td>\n",
       "      <td>1.3.6.1.4.1.9590.100.1.2.250681179813913418312...</td>\n",
       "      <td>0.126820</td>\n",
       "    </tr>\n",
       "    <tr>\n",
       "      <th>1</th>\n",
       "      <td>2019</td>\n",
       "      <td>1.3.6.1.4.1.9590.100.1.2.117111588412865729801...</td>\n",
       "      <td>1.3.6.1.4.1.9590.100.1.2.189485955411711008602...</td>\n",
       "      <td>0.004941</td>\n",
       "    </tr>\n",
       "    <tr>\n",
       "      <th>2</th>\n",
       "      <td>2019</td>\n",
       "      <td>1.3.6.1.4.1.9590.100.1.2.190727149413805451333...</td>\n",
       "      <td>1.3.6.1.4.1.9590.100.1.2.266447459412025533907...</td>\n",
       "      <td>0.541950</td>\n",
       "    </tr>\n",
       "    <tr>\n",
       "      <th>3</th>\n",
       "      <td>2019</td>\n",
       "      <td>1.3.6.1.4.1.9590.100.1.2.211756715011326913522...</td>\n",
       "      <td>1.3.6.1.4.1.9590.100.1.2.310552899912770926928...</td>\n",
       "      <td>0.000000</td>\n",
       "    </tr>\n",
       "    <tr>\n",
       "      <th>4</th>\n",
       "      <td>2019</td>\n",
       "      <td>1.3.6.1.4.1.9590.100.1.2.225990696211768600614...</td>\n",
       "      <td>1.3.6.1.4.1.9590.100.1.2.384142289612482598518...</td>\n",
       "      <td>0.406440</td>\n",
       "    </tr>\n",
       "  </tbody>\n",
       "</table>\n",
       "</div>"
      ],
      "text/plain": [
       "    año                                    fluencia medida  \\\n",
       "0  2019  1.3.6.1.4.1.9590.100.1.2.106363004312018285639...   \n",
       "1  2019  1.3.6.1.4.1.9590.100.1.2.117111588412865729801...   \n",
       "2  2019  1.3.6.1.4.1.9590.100.1.2.190727149413805451333...   \n",
       "3  2019  1.3.6.1.4.1.9590.100.1.2.211756715011326913522...   \n",
       "4  2019  1.3.6.1.4.1.9590.100.1.2.225990696211768600614...   \n",
       "\n",
       "                                  fluencia calculada  uno menos gamma index  \n",
       "0  1.3.6.1.4.1.9590.100.1.2.250681179813913418312...               0.126820  \n",
       "1  1.3.6.1.4.1.9590.100.1.2.189485955411711008602...               0.004941  \n",
       "2  1.3.6.1.4.1.9590.100.1.2.266447459412025533907...               0.541950  \n",
       "3  1.3.6.1.4.1.9590.100.1.2.310552899912770926928...               0.000000  \n",
       "4  1.3.6.1.4.1.9590.100.1.2.384142289612482598518...               0.406440  "
      ]
     },
     "execution_count": 11,
     "metadata": {},
     "output_type": "execute_result"
    }
   ],
   "source": [
    "maps_in = pd.read_csv(PATH/\"codex.2018-2019.csv\", sep=';', delimiter=None, header=0)\n",
    "maps_in.head()"
   ]
  },
  {
   "cell_type": "code",
   "execution_count": 12,
   "metadata": {},
   "outputs": [
    {
     "data": {
      "text/html": [
       "<div>\n",
       "<style scoped>\n",
       "    .dataframe tbody tr th:only-of-type {\n",
       "        vertical-align: middle;\n",
       "    }\n",
       "\n",
       "    .dataframe tbody tr th {\n",
       "        vertical-align: top;\n",
       "    }\n",
       "\n",
       "    .dataframe thead th {\n",
       "        text-align: right;\n",
       "    }\n",
       "</style>\n",
       "<table border=\"1\" class=\"dataframe\">\n",
       "  <thead>\n",
       "    <tr style=\"text-align: right;\">\n",
       "      <th></th>\n",
       "      <th>full_filename_jpeg</th>\n",
       "      <th>gamma_index</th>\n",
       "    </tr>\n",
       "  </thead>\n",
       "  <tbody>\n",
       "    <tr>\n",
       "      <th>0</th>\n",
       "      <td>/home/pablo/datasets/data/radioterapia/ciolapl...</td>\n",
       "      <td>99.873180</td>\n",
       "    </tr>\n",
       "    <tr>\n",
       "      <th>1</th>\n",
       "      <td>/home/pablo/datasets/data/radioterapia/ciolapl...</td>\n",
       "      <td>99.995059</td>\n",
       "    </tr>\n",
       "    <tr>\n",
       "      <th>2</th>\n",
       "      <td>/home/pablo/datasets/data/radioterapia/ciolapl...</td>\n",
       "      <td>99.458050</td>\n",
       "    </tr>\n",
       "    <tr>\n",
       "      <th>3</th>\n",
       "      <td>/home/pablo/datasets/data/radioterapia/ciolapl...</td>\n",
       "      <td>100.000000</td>\n",
       "    </tr>\n",
       "    <tr>\n",
       "      <th>4</th>\n",
       "      <td>/home/pablo/datasets/data/radioterapia/ciolapl...</td>\n",
       "      <td>99.593560</td>\n",
       "    </tr>\n",
       "  </tbody>\n",
       "</table>\n",
       "</div>"
      ],
      "text/plain": [
       "                                  full_filename_jpeg  gamma_index\n",
       "0  /home/pablo/datasets/data/radioterapia/ciolapl...    99.873180\n",
       "1  /home/pablo/datasets/data/radioterapia/ciolapl...    99.995059\n",
       "2  /home/pablo/datasets/data/radioterapia/ciolapl...    99.458050\n",
       "3  /home/pablo/datasets/data/radioterapia/ciolapl...   100.000000\n",
       "4  /home/pablo/datasets/data/radioterapia/ciolapl...    99.593560"
      ]
     },
     "execution_count": 12,
     "metadata": {},
     "output_type": "execute_result"
    }
   ],
   "source": [
    "maps_out = pd.DataFrame(columns=['full_filename_jpeg', 'gamma_index'])\n",
    "maps_out['full_filename_jpeg'] = [PATH/Path(str(row[0])+'-jpeg')/Path(str(row[1])+'.jpeg') for row in maps_in[['año', 'fluencia calculada']].values]\n",
    "maps_out['gamma_index'] = maps_in.apply(lambda row: 100.0 - row['uno menos gamma index'], axis=1)\n",
    "maps_out.head()"
   ]
  },
  {
   "cell_type": "code",
   "execution_count": 13,
   "metadata": {},
   "outputs": [
    {
     "data": {
      "text/plain": [
       "(PosixPath('/home/pablo/datasets/data/radioterapia/ciolaplata/2019-jpeg/1.3.6.1.4.1.9590.100.1.2.250681179813913418312485712811639382340.jpeg'),\n",
       " 99.87318)"
      ]
     },
     "execution_count": 13,
     "metadata": {},
     "output_type": "execute_result"
    }
   ],
   "source": [
    "maps_out['full_filename_jpeg'][0], maps_out['gamma_index'][0]"
   ]
  },
  {
   "cell_type": "code",
   "execution_count": 14,
   "metadata": {},
   "outputs": [
    {
     "data": {
      "text/plain": [
       "(PosixPath('/home/pablo/datasets/data/radioterapia/ciolaplata/2019-jpeg/1.3.6.1.4.1.9590.100.1.2.250681179813913418312485712811639382340.jpeg'),\n",
       " 99.87318)"
      ]
     },
     "execution_count": 14,
     "metadata": {},
     "output_type": "execute_result"
    }
   ],
   "source": [
    "row = maps_out.iloc[0,:]\n",
    "row['full_filename_jpeg'], row['gamma_index'] "
   ]
  },
  {
   "cell_type": "code",
   "execution_count": 15,
   "metadata": {},
   "outputs": [
    {
     "data": {
      "text/plain": [
       "(99.87318,\n",
       " numpy.float64,\n",
       " array([99.87318]),\n",
       " numpy.ndarray,\n",
       " 99.87318,\n",
       " numpy.float64)"
      ]
     },
     "execution_count": 15,
     "metadata": {},
     "output_type": "execute_result"
    }
   ],
   "source": [
    "y = row['gamma_index']\n",
    "y, type(y), y[None], type(y[None]), y[None][0], type(y[None][0])"
   ]
  },
  {
   "cell_type": "code",
   "execution_count": 16,
   "metadata": {},
   "outputs": [
    {
     "data": {
      "text/plain": [
       "<matplotlib.image.AxesImage at 0x7fdce1f668d0>"
      ]
     },
     "execution_count": 16,
     "metadata": {},
     "output_type": "execute_result"
    },
    {
     "data": {
      "image/png": "[encoded data removed]",
      "text/plain": [
       "<Figure size 432x288 with 1 Axes>"
      ]
     },
     "metadata": {
      "needs_background": "light"
     },
     "output_type": "display_data"
    }
   ],
   "source": [
    "path = row['full_filename_jpeg']\n",
    "im = read_image(path)\n",
    "plt.imshow(im)"
   ]
  },
  {
   "cell_type": "code",
   "execution_count": 17,
   "metadata": {},
   "outputs": [
    {
     "data": {
      "text/plain": [
       "(256, 256, 3)"
      ]
     },
     "execution_count": 17,
     "metadata": {},
     "output_type": "execute_result"
    }
   ],
   "source": [
    "im.shape"
   ]
  },
  {
   "cell_type": "code",
   "execution_count": 18,
   "metadata": {},
   "outputs": [
    {
     "data": {
      "text/plain": [
       "(0, 255)"
      ]
     },
     "execution_count": 18,
     "metadata": {},
     "output_type": "execute_result"
    }
   ],
   "source": [
    "# channel 0\n",
    "np.min(im[:,:,0]), np.max(im[:,:,0])"
   ]
  },
  {
   "cell_type": "code",
   "execution_count": 19,
   "metadata": {},
   "outputs": [],
   "source": [
    "mask = np.random.random(len(maps_out)) < 0.8\n",
    "train_maps = maps_out[mask].copy()\n",
    "valid_maps = maps_out[~mask].copy()"
   ]
  },
  {
   "cell_type": "code",
   "execution_count": 20,
   "metadata": {},
   "outputs": [
    {
     "data": {
      "text/plain": [
       "(3995, 3194, 801)"
      ]
     },
     "execution_count": 20,
     "metadata": {},
     "output_type": "execute_result"
    }
   ],
   "source": [
    "len(maps_out), len(train_maps), len(valid_maps) "
   ]
  },
  {
   "cell_type": "markdown",
   "metadata": {},
   "source": [
    "## Dataset"
   ]
  },
  {
   "cell_type": "code",
   "execution_count": 21,
   "metadata": {},
   "outputs": [],
   "source": [
    "def rescale_0_to_1(image):\n",
    "    \"\"\"\n",
    "    Rescale image to [0, 1].\n",
    "    \"\"\"\n",
    "    # Image must be casted to float32 first\n",
    "    image = image.astype('float')\n",
    "    image = (image/255.0)\n",
    "    return image"
   ]
  },
  {
   "cell_type": "code",
   "execution_count": 22,
   "metadata": {},
   "outputs": [],
   "source": [
    "def rescale_min_1_to_1(image):\n",
    "    \"\"\"\n",
    "    Rescale image to [-1, 1].\n",
    "    \"\"\"\n",
    "    # Image must be casted to float32 first\n",
    "    image = image.astype('float')\n",
    "    # Rescale image from [0, 255] to [0, 2], and by substracting -1 we rescale to [-1, 1].\n",
    "    image = (image/127.5) - 1\n",
    "    return image"
   ]
  },
  {
   "cell_type": "code",
   "execution_count": 23,
   "metadata": {},
   "outputs": [],
   "source": [
    "def normalize(im):\n",
    "    \"\"\"Normalizes images with Imagenet stats.\"\"\"\n",
    "    mean = [0.485, 0.456, 0.406]\n",
    "    std = [0.229, 0.224, 0.225]\n",
    "    imagenet_stats = np.array([mean, std])\n",
    "    return (im - imagenet_stats[0])/imagenet_stats[1]"
   ]
  },
  {
   "cell_type": "code",
   "execution_count": 24,
   "metadata": {},
   "outputs": [],
   "source": [
    "class FluenceMapsDataset(Dataset):\n",
    "    def __init__(self, maps):\n",
    "        self.num_maps = len(maps)\n",
    "        self.maps = maps\n",
    "        \n",
    "    def __len__(self):\n",
    "        return self.num_maps\n",
    "    \n",
    "    def __getitem__(self, index):\n",
    "        row = self.maps.iloc[index,:]\n",
    "        y = row['gamma_index']\n",
    "        path = str(row['full_filename_jpeg'])\n",
    "        x = read_image(path)\n",
    "        x = rescale_0_to_1(x)\n",
    "        # x = normalize(x) # do not normalize, model performance is lower.\n",
    "        # rollaxis: (256, 256, 3) => (3, 256, 256)\n",
    "        return np.rollaxis(x, 2), y[None], path # y[None] converts y to numpy.ndarray "
   ]
  },
  {
   "cell_type": "code",
   "execution_count": 25,
   "metadata": {},
   "outputs": [],
   "source": [
    "train_ds = FluenceMapsDataset(train_maps)\n",
    "valid_ds = FluenceMapsDataset(valid_maps)"
   ]
  },
  {
   "cell_type": "code",
   "execution_count": 26,
   "metadata": {},
   "outputs": [
    {
     "data": {
      "text/plain": [
       "((3, 256, 256),\n",
       " array([99.9950589]),\n",
       " '/home/pablo/datasets/data/radioterapia/ciolaplata/2019-jpeg/1.3.6.1.4.1.9590.100.1.2.189485955411711008602298833212808936348.jpeg')"
      ]
     },
     "execution_count": 26,
     "metadata": {},
     "output_type": "execute_result"
    }
   ],
   "source": [
    "x, y, f = train_ds[0]\n",
    "x.shape, y, f"
   ]
  },
  {
   "cell_type": "code",
   "execution_count": 27,
   "metadata": {},
   "outputs": [
    {
     "data": {
      "text/plain": [
       "<matplotlib.image.AxesImage at 0x7fdce1f09350>"
      ]
     },
     "execution_count": 27,
     "metadata": {},
     "output_type": "execute_result"
    },
    {
     "data": {
      "image/png": "[encoded data removed]",
      "text/plain": [
       "<Figure size 432x288 with 1 Axes>"
      ]
     },
     "metadata": {
      "needs_background": "light"
     },
     "output_type": "display_data"
    }
   ],
   "source": [
    "row = train_maps.iloc[0,:]\n",
    "path = row['full_filename_jpeg']\n",
    "im = read_image(path)\n",
    "plt.imshow(im)"
   ]
  },
  {
   "cell_type": "code",
   "execution_count": 28,
   "metadata": {},
   "outputs": [
    {
     "data": {
      "text/plain": [
       "<matplotlib.image.AxesImage at 0x7fdce1f15850>"
      ]
     },
     "execution_count": 28,
     "metadata": {},
     "output_type": "execute_result"
    },
    {
     "data": {
      "image/png": "[encoded data removed]",
      "text/plain": [
       "<Figure size 432x288 with 1 Axes>"
      ]
     },
     "metadata": {
      "needs_background": "light"
     },
     "output_type": "display_data"
    }
   ],
   "source": [
    "x = np.rollaxis(x, 2)\n",
    "x = np.rollaxis(x, 2)\n",
    "plt.imshow(x)"
   ]
  },
  {
   "cell_type": "code",
   "execution_count": 29,
   "metadata": {},
   "outputs": [
    {
     "data": {
      "text/plain": [
       "((3, 256, 256), array([99.87318]))"
      ]
     },
     "execution_count": 29,
     "metadata": {},
     "output_type": "execute_result"
    }
   ],
   "source": [
    "x, y, _ = valid_ds[0]\n",
    "x.shape, y"
   ]
  },
  {
   "cell_type": "code",
   "execution_count": 30,
   "metadata": {},
   "outputs": [],
   "source": [
    "BATCH_SIZE = 32\n",
    "train_loader = DataLoader(train_ds, batch_size=BATCH_SIZE, shuffle=True, num_workers=8)\n",
    "valid_loader = DataLoader(valid_ds, batch_size=BATCH_SIZE, num_workers=8)"
   ]
  },
  {
   "cell_type": "code",
   "execution_count": 31,
   "metadata": {},
   "outputs": [
    {
     "data": {
      "text/plain": [
       "3194"
      ]
     },
     "execution_count": 31,
     "metadata": {},
     "output_type": "execute_result"
    }
   ],
   "source": [
    "len(train_ds)"
   ]
  },
  {
   "cell_type": "code",
   "execution_count": 32,
   "metadata": {},
   "outputs": [
    {
     "data": {
      "text/plain": [
       "100"
      ]
     },
     "execution_count": 32,
     "metadata": {},
     "output_type": "execute_result"
    }
   ],
   "source": [
    "len(train_loader)"
   ]
  },
  {
   "cell_type": "code",
   "execution_count": 33,
   "metadata": {},
   "outputs": [],
   "source": [
    "train_dl = DataLoader(train_ds, batch_size=BATCH_SIZE, shuffle=True)\n",
    "valid_dl = DataLoader(valid_ds, batch_size=BATCH_SIZE)"
   ]
  },
  {
   "cell_type": "markdown",
   "metadata": {},
   "source": [
    "## Model"
   ]
  },
  {
   "cell_type": "code",
   "execution_count": 34,
   "metadata": {},
   "outputs": [],
   "source": [
    "#conda install ipywidgets\n",
    "resnet = models.resnet18(pretrained=True)\n",
    "#resnet "
   ]
  },
  {
   "cell_type": "code",
   "execution_count": 35,
   "metadata": {},
   "outputs": [
    {
     "name": "stdout",
     "output_type": "stream",
     "text": [
      "10\n",
      "-----------------------layer 0-----------------------\n",
      "Conv2d(3, 64, kernel_size=(7, 7), stride=(2, 2), padding=(3, 3), bias=False)\n",
      "-----------------------layer 1-----------------------\n",
      "BatchNorm2d(64, eps=1e-05, momentum=0.1, affine=True, track_running_stats=True)\n",
      "-----------------------layer 2-----------------------\n",
      "ReLU(inplace=True)\n",
      "-----------------------layer 3-----------------------\n",
      "MaxPool2d(kernel_size=3, stride=2, padding=1, dilation=1, ceil_mode=False)\n",
      "-----------------------layer 4-----------------------\n",
      "Sequential(\n",
      "  (0): BasicBlock(\n",
      "    (conv1): Conv2d(64, 64, kernel_size=(3, 3), stride=(1, 1), padding=(1, 1), bias=False)\n",
      "    (bn1): BatchNorm2d(64, eps=1e-05, momentum=0.1, affine=True, track_running_stats=True)\n",
      "    (relu): ReLU(inplace=True)\n",
      "    (conv2): Conv2d(64, 64, kernel_size=(3, 3), stride=(1, 1), padding=(1, 1), bias=False)\n",
      "    (bn2): BatchNorm2d(64, eps=1e-05, momentum=0.1, affine=True, track_running_stats=True)\n",
      "  )\n",
      "  (1): BasicBlock(\n",
      "    (conv1): Conv2d(64, 64, kernel_size=(3, 3), stride=(1, 1), padding=(1, 1), bias=False)\n",
      "    (bn1): BatchNorm2d(64, eps=1e-05, momentum=0.1, affine=True, track_running_stats=True)\n",
      "    (relu): ReLU(inplace=True)\n",
      "    (conv2): Conv2d(64, 64, kernel_size=(3, 3), stride=(1, 1), padding=(1, 1), bias=False)\n",
      "    (bn2): BatchNorm2d(64, eps=1e-05, momentum=0.1, affine=True, track_running_stats=True)\n",
      "  )\n",
      ")\n",
      "-----------------------layer 5-----------------------\n",
      "Sequential(\n",
      "  (0): BasicBlock(\n",
      "    (conv1): Conv2d(64, 128, kernel_size=(3, 3), stride=(2, 2), padding=(1, 1), bias=False)\n",
      "    (bn1): BatchNorm2d(128, eps=1e-05, momentum=0.1, affine=True, track_running_stats=True)\n",
      "    (relu): ReLU(inplace=True)\n",
      "    (conv2): Conv2d(128, 128, kernel_size=(3, 3), stride=(1, 1), padding=(1, 1), bias=False)\n",
      "    (bn2): BatchNorm2d(128, eps=1e-05, momentum=0.1, affine=True, track_running_stats=True)\n",
      "    (downsample): Sequential(\n",
      "      (0): Conv2d(64, 128, kernel_size=(1, 1), stride=(2, 2), bias=False)\n",
      "      (1): BatchNorm2d(128, eps=1e-05, momentum=0.1, affine=True, track_running_stats=True)\n",
      "    )\n",
      "  )\n",
      "  (1): BasicBlock(\n",
      "    (conv1): Conv2d(128, 128, kernel_size=(3, 3), stride=(1, 1), padding=(1, 1), bias=False)\n",
      "    (bn1): BatchNorm2d(128, eps=1e-05, momentum=0.1, affine=True, track_running_stats=True)\n",
      "    (relu): ReLU(inplace=True)\n",
      "    (conv2): Conv2d(128, 128, kernel_size=(3, 3), stride=(1, 1), padding=(1, 1), bias=False)\n",
      "    (bn2): BatchNorm2d(128, eps=1e-05, momentum=0.1, affine=True, track_running_stats=True)\n",
      "  )\n",
      ")\n",
      "-----------------------layer 6-----------------------\n",
      "Sequential(\n",
      "  (0): BasicBlock(\n",
      "    (conv1): Conv2d(128, 256, kernel_size=(3, 3), stride=(2, 2), padding=(1, 1), bias=False)\n",
      "    (bn1): BatchNorm2d(256, eps=1e-05, momentum=0.1, affine=True, track_running_stats=True)\n",
      "    (relu): ReLU(inplace=True)\n",
      "    (conv2): Conv2d(256, 256, kernel_size=(3, 3), stride=(1, 1), padding=(1, 1), bias=False)\n",
      "    (bn2): BatchNorm2d(256, eps=1e-05, momentum=0.1, affine=True, track_running_stats=True)\n",
      "    (downsample): Sequential(\n",
      "      (0): Conv2d(128, 256, kernel_size=(1, 1), stride=(2, 2), bias=False)\n",
      "      (1): BatchNorm2d(256, eps=1e-05, momentum=0.1, affine=True, track_running_stats=True)\n",
      "    )\n",
      "  )\n",
      "  (1): BasicBlock(\n",
      "    (conv1): Conv2d(256, 256, kernel_size=(3, 3), stride=(1, 1), padding=(1, 1), bias=False)\n",
      "    (bn1): BatchNorm2d(256, eps=1e-05, momentum=0.1, affine=True, track_running_stats=True)\n",
      "    (relu): ReLU(inplace=True)\n",
      "    (conv2): Conv2d(256, 256, kernel_size=(3, 3), stride=(1, 1), padding=(1, 1), bias=False)\n",
      "    (bn2): BatchNorm2d(256, eps=1e-05, momentum=0.1, affine=True, track_running_stats=True)\n",
      "  )\n",
      ")\n",
      "-----------------------layer 7-----------------------\n",
      "Sequential(\n",
      "  (0): BasicBlock(\n",
      "    (conv1): Conv2d(256, 512, kernel_size=(3, 3), stride=(2, 2), padding=(1, 1), bias=False)\n",
      "    (bn1): BatchNorm2d(512, eps=1e-05, momentum=0.1, affine=True, track_running_stats=True)\n",
      "    (relu): ReLU(inplace=True)\n",
      "    (conv2): Conv2d(512, 512, kernel_size=(3, 3), stride=(1, 1), padding=(1, 1), bias=False)\n",
      "    (bn2): BatchNorm2d(512, eps=1e-05, momentum=0.1, affine=True, track_running_stats=True)\n",
      "    (downsample): Sequential(\n",
      "      (0): Conv2d(256, 512, kernel_size=(1, 1), stride=(2, 2), bias=False)\n",
      "      (1): BatchNorm2d(512, eps=1e-05, momentum=0.1, affine=True, track_running_stats=True)\n",
      "    )\n",
      "  )\n",
      "  (1): BasicBlock(\n",
      "    (conv1): Conv2d(512, 512, kernel_size=(3, 3), stride=(1, 1), padding=(1, 1), bias=False)\n",
      "    (bn1): BatchNorm2d(512, eps=1e-05, momentum=0.1, affine=True, track_running_stats=True)\n",
      "    (relu): ReLU(inplace=True)\n",
      "    (conv2): Conv2d(512, 512, kernel_size=(3, 3), stride=(1, 1), padding=(1, 1), bias=False)\n",
      "    (bn2): BatchNorm2d(512, eps=1e-05, momentum=0.1, affine=True, track_running_stats=True)\n",
      "  )\n",
      ")\n",
      "-----------------------layer 8-----------------------\n",
      "AdaptiveAvgPool2d(output_size=(1, 1))\n",
      "-----------------------layer 9-----------------------\n",
      "Linear(in_features=512, out_features=1000, bias=True)\n"
     ]
    }
   ],
   "source": [
    "layers = list(resnet.children())\n",
    "print(len(layers))\n",
    "# layers[-2:]\n",
    "for i in range(len(layers)):\n",
    "    print (f\"-----------------------layer {i}-----------------------\")\n",
    "    print(layers[i])\n",
    "    \n",
    "# we want to freeze the fc2 layer this time: only train fc1 and fc3\n",
    "#net.fc2.weight.requires_grad = False\n",
    "#net.fc2.bias.requires_grad = False\n",
    "\n",
    "#for param in resnet.parameters():\n",
    "#    param.requires_grad = True\n",
    "    \n",
    "#layers[0].weight.requires_grad = False\n",
    "#layers[1].requires_grad = False\n",
    "#layers[4][0].conv1.weight.requires_grad = False\n",
    "#layers[4][0].conv2.weight.requires_grad = False\n",
    "\n",
    "#for param in resnet.parameters():\n",
    "#    print(param.shape, param.requires_grad)"
   ]
  },
  {
   "cell_type": "code",
   "execution_count": 36,
   "metadata": {},
   "outputs": [],
   "source": [
    "# see https://discuss.pytorch.org/t/pytorch-equivalent-of-keras/29412\n",
    "class Net(nn.Module):\n",
    "    def __init__(self):\n",
    "        super(Net, self).__init__()\n",
    "        resnet = models.resnet18(pretrained=True)\n",
    "        layers = list(resnet.children())[:8]\n",
    "        self.features1 = nn.Sequential(*layers[:6])\n",
    "        self.features2 = nn.Sequential(*layers[6:])\n",
    "        self.classifier = nn.Sequential(nn.BatchNorm1d(512), nn.Linear(512,1))\n",
    "    \n",
    "    def forward(self, x):\n",
    "        x = self.features1(x)\n",
    "        x = self.features2(x)\n",
    "        x = F.relu(x)\n",
    "        x = nn.AdaptiveAvgPool2d((1,1))(x)\n",
    "        x = x.view(x.shape[0], -1)\n",
    "        x = self.classifier(x)\n",
    "        return x"
   ]
  },
  {
   "cell_type": "code",
   "execution_count": 37,
   "metadata": {},
   "outputs": [],
   "source": [
    "model = Net().cuda()"
   ]
  },
  {
   "cell_type": "code",
   "execution_count": 38,
   "metadata": {},
   "outputs": [],
   "source": [
    "x, y, _ = next(iter(train_dl))"
   ]
  },
  {
   "cell_type": "code",
   "execution_count": 39,
   "metadata": {},
   "outputs": [
    {
     "data": {
      "text/plain": [
       "torch.Size([32, 3, 256, 256])"
      ]
     },
     "execution_count": 39,
     "metadata": {},
     "output_type": "execute_result"
    }
   ],
   "source": [
    "x = x.cuda().float()\n",
    "y = y.cuda().float()\n",
    "x.shape"
   ]
  },
  {
   "cell_type": "code",
   "execution_count": 40,
   "metadata": {},
   "outputs": [
    {
     "data": {
      "text/plain": [
       "torch.Size([32, 128, 32, 32])"
      ]
     },
     "execution_count": 40,
     "metadata": {},
     "output_type": "execute_result"
    }
   ],
   "source": [
    "x_features = model.features1(x)\n",
    "x_features.shape"
   ]
  },
  {
   "cell_type": "code",
   "execution_count": 41,
   "metadata": {},
   "outputs": [
    {
     "data": {
      "text/plain": [
       "torch.Size([32, 512, 8, 8])"
      ]
     },
     "execution_count": 41,
     "metadata": {},
     "output_type": "execute_result"
    }
   ],
   "source": [
    "x_features2 = model.features2(x_features)\n",
    "x_features2.shape"
   ]
  },
  {
   "cell_type": "code",
   "execution_count": 42,
   "metadata": {},
   "outputs": [],
   "source": [
    "x_features2 = F.relu(x_features2)"
   ]
  },
  {
   "cell_type": "code",
   "execution_count": 43,
   "metadata": {},
   "outputs": [
    {
     "data": {
      "text/plain": [
       "torch.Size([32, 512, 1, 1])"
      ]
     },
     "execution_count": 43,
     "metadata": {},
     "output_type": "execute_result"
    }
   ],
   "source": [
    "# AdaptiveAvgPool2d would do a similar job if the input is [64, 512, 10, 20]\n",
    "# that is why this model will fit any input size\n",
    "x_features_ave = nn.AdaptiveAvgPool2d((1,1))(x_features2)\n",
    "x_features_ave.shape"
   ]
  },
  {
   "cell_type": "code",
   "execution_count": 44,
   "metadata": {},
   "outputs": [
    {
     "data": {
      "text/plain": [
       "torch.Size([32, 512])"
      ]
     },
     "execution_count": 44,
     "metadata": {},
     "output_type": "execute_result"
    }
   ],
   "source": [
    "x_features_flatten = x_features_ave.view(x_features_ave.shape[0], -1)\n",
    "x_features_flatten.shape"
   ]
  },
  {
   "cell_type": "code",
   "execution_count": 45,
   "metadata": {},
   "outputs": [
    {
     "data": {
      "text/plain": [
       "torch.Size([32, 1])"
      ]
     },
     "execution_count": 45,
     "metadata": {},
     "output_type": "execute_result"
    }
   ],
   "source": [
    "y_hat = model(x)\n",
    "y_hat.shape"
   ]
  },
  {
   "cell_type": "code",
   "execution_count": 46,
   "metadata": {},
   "outputs": [
    {
     "data": {
      "text/plain": [
       "tensor(99.2205, device='cuda:0', grad_fn=<L1LossBackward>)"
      ]
     },
     "execution_count": 46,
     "metadata": {},
     "output_type": "execute_result"
    }
   ],
   "source": [
    "# L1Loss (MAE), see https://pytorch.org/docs/master/generated/torch.nn.L1Loss.html#torch.nn.L1Loss\n",
    "F.l1_loss(y_hat, y)"
   ]
  },
  {
   "cell_type": "code",
   "execution_count": 47,
   "metadata": {},
   "outputs": [
    {
     "data": {
      "text/plain": [
       "torch.Size([32, 1])"
      ]
     },
     "execution_count": 47,
     "metadata": {},
     "output_type": "execute_result"
    }
   ],
   "source": [
    "y.shape"
   ]
  },
  {
   "cell_type": "code",
   "execution_count": 48,
   "metadata": {},
   "outputs": [],
   "source": [
    "# freeze parameters in layers 0 to 5\n",
    "#for param in model.features1.parameters():\n",
    "#    param.requires_grad = False\n",
    "#    \n",
    "#for param in model.parameters():\n",
    "#    print(param.requires_grad)"
   ]
  },
  {
   "cell_type": "markdown",
   "metadata": {},
   "source": [
    "## Checking Loss function\n",
    "Let's write the loss function from scratch in numpy to check the pytorch function."
   ]
  },
  {
   "cell_type": "markdown",
   "metadata": {},
   "source": [
    "## Learning rate finder"
   ]
  },
  {
   "cell_type": "markdown",
   "metadata": {},
   "source": [
    "From this paper https://arxiv.org/pdf/1506.01186.pdf. This an implementation of the \"LR range test\". Run your model for several epochs while letting the learning rate increase linearly between low and high LR values. Next, plot the loss versus learning rate. Note the learning rate value when the loss starts to decrease and when the loss slows, becomes ragged, or increases. In the example below the range seem to be from 1e-5 to 0.012."
   ]
  },
  {
   "cell_type": "code",
   "execution_count": 49,
   "metadata": {},
   "outputs": [],
   "source": [
    "def create_optimizer(model, lr0):\n",
    "    params = [{'params': model.features1.parameters(), 'lr': lr0/9},\n",
    "              {'params': model.features2.parameters(), 'lr': lr0/3},\n",
    "              {'params': model.classifier.parameters(), 'lr': lr0}]\n",
    "    #for param in model.parameters():\n",
    "    #    print(param.requires_grad)\n",
    "    return optim.Adam(params, weight_decay=1e-5)\n",
    "    #return optim.Adam(filter(lambda p: p.requires_grad, model.parameters()), weight_decay=1e-5)\n",
    "\n",
    "    \n",
    "def update_optimizer(optimizer, group_lrs):\n",
    "    for i, param_group in enumerate(optimizer.param_groups):\n",
    "        param_group[\"lr\"] = group_lrs[i]"
   ]
  },
  {
   "cell_type": "code",
   "execution_count": 50,
   "metadata": {},
   "outputs": [],
   "source": [
    "def save_model(m, p): torch.save(m.state_dict(), p)\n",
    "    \n",
    "def load_model(m, p): m.load_state_dict(torch.load(p))\n",
    "\n",
    "\n",
    "def LR_range_finder(model, train_dl, lr_low=1e-4, lr_high=0.01, epochs=3):\n",
    "    losses = []\n",
    "    p = PATH/\"mode_tmp.pth\"\n",
    "    save_model(model, str(p))\n",
    "    iterations = epochs * len(train_dl)\n",
    "    delta = (lr_high - lr_low)/iterations\n",
    "    print(f\"train size: {len(train_dl)}, no. iter: {iterations}, lr_high - lr_low: {lr_high - lr_low}, delta: {delta}\")\n",
    "    lrs = [lr_low + i*delta for i in range(iterations)]\n",
    "    model.train()\n",
    "    optimizer = create_optimizer(model, lrs[0])\n",
    "    ind = 0\n",
    "    for i in range(epochs):\n",
    "        for x, y, _ in train_dl:\n",
    "            lr = lrs[ind]\n",
    "            # print(f\"lr: {lr}\")\n",
    "            update_optimizer(optimizer, [lr/9, lr/3, lr])\n",
    "            x = x.cuda().float()\n",
    "            y = y.cuda().float()\n",
    "            out = model(x)\n",
    "            loss = F.l1_loss(out, y)\n",
    "            optimizer.zero_grad()\n",
    "            loss.backward()\n",
    "            optimizer.step()\n",
    "            losses.append(loss.item())\n",
    "            ind +=1\n",
    "            \n",
    "    load_model(model, str(p))\n",
    "    return lrs, losses    "
   ]
  },
  {
   "cell_type": "code",
   "execution_count": 51,
   "metadata": {},
   "outputs": [
    {
     "name": "stdout",
     "output_type": "stream",
     "text": [
      "train size: 100, no. iter: 300, lr_high - lr_low: 0.29999, delta: 0.0009999666666666667\n"
     ]
    }
   ],
   "source": [
    "# >>> create model >>>\n",
    "model = Net().cuda()\n",
    "# freeze parameters in layers 0 to 5\n",
    "#for param in model.features1.parameters():\n",
    "#    param.requires_grad = False\n",
    "\n",
    "lrs, losses = LR_range_finder(model, train_dl, lr_low=1e-5, lr_high=0.3)"
   ]
  },
  {
   "cell_type": "code",
   "execution_count": 52,
   "metadata": {},
   "outputs": [
    {
     "data": {
      "image/png": "[encoded data removed]",
      "text/plain": [
       "<Figure size 432x288 with 1 Axes>"
      ]
     },
     "metadata": {
      "needs_background": "light"
     },
     "output_type": "display_data"
    }
   ],
   "source": [
    "plt.plot(lrs, losses)\n",
    "plt.show()"
   ]
  },
  {
   "cell_type": "markdown",
   "metadata": {},
   "source": [
    "## Triangular learning rate training"
   ]
  },
  {
   "cell_type": "code",
   "execution_count": 53,
   "metadata": {},
   "outputs": [],
   "source": [
    "def cosine_segment(start_lr, end_lr, iterations):\n",
    "    i = np.arange(iterations)\n",
    "    c_i = 1 + np.cos(i*np.pi/iterations)\n",
    "    # print(f\"i: {i}, c_i: {c_i}, res: {end_lr + (start_lr - end_lr)/2 *c_i}\")\n",
    "    return end_lr + (start_lr - end_lr)/2 *c_i\n",
    "\n",
    "def get_cosine_triangular_lr(max_lr, iterations):\n",
    "    min_start, min_end = max_lr/25, max_lr/(25*1e4)\n",
    "    iter1 = int(0.3*iterations)\n",
    "    iter2 = iterations - iter1\n",
    "    print(f\"min_start: {min_start:.3e}, min_end: {min_end:.3e}, iter1: {iter1}, iter2: {iter2}\")\n",
    "    segs = [cosine_segment(min_start, max_lr, iter1), cosine_segment(max_lr, min_end, iter2)]\n",
    "    return np.concatenate(segs)"
   ]
  },
  {
   "cell_type": "code",
   "execution_count": 54,
   "metadata": {},
   "outputs": [
    {
     "name": "stdout",
     "output_type": "stream",
     "text": [
      "min_start: 4.000e-05, min_end: 4.000e-09, iter1: 600, iter2: 1400\n"
     ]
    },
    {
     "data": {
      "image/png": "[encoded data removed]",
      "text/plain": [
       "<Figure size 432x288 with 1 Axes>"
      ]
     },
     "metadata": {
      "needs_background": "light"
     },
     "output_type": "display_data"
    }
   ],
   "source": [
    "N = 2000\n",
    "lr = get_cosine_triangular_lr(0.001, N)\n",
    "plt.plot(list(range(N)), lr)\n",
    "plt.show()"
   ]
  },
  {
   "cell_type": "code",
   "execution_count": 55,
   "metadata": {},
   "outputs": [],
   "source": [
    "def train_one_epoch(model, optimizer, train_dl, lrs, idx):\n",
    "    model.train()\n",
    "    total = 0\n",
    "    sum_loss = 0\n",
    "    for x, y, _ in train_dl:\n",
    "        lr = lrs[idx]\n",
    "        # print(f\"lr: {lr}\")\n",
    "        update_optimizer(optimizer, [lr/9, lr/3, lr])\n",
    "        batch = y.shape[0]\n",
    "        x = x.cuda().float()\n",
    "        y = y.cuda().float()\n",
    "        out = model(x)\n",
    "        loss = F.l1_loss(out, y)\n",
    "        optimizer.zero_grad()\n",
    "        loss.backward()\n",
    "        optimizer.step()\n",
    "        idx += 1\n",
    "        total += batch\n",
    "        sum_loss += batch*(loss.item())\n",
    "    return sum_loss/total, idx"
   ]
  },
  {
   "cell_type": "code",
   "execution_count": 56,
   "metadata": {},
   "outputs": [],
   "source": [
    "def train_triangular_policy(model, train_dl, valid_dl, max_lr=0.04, epochs = 5):\n",
    "    idx = 0\n",
    "    iterations = epochs*len(train_dl)\n",
    "    lrs = get_cosine_triangular_lr(max_lr, iterations)\n",
    "    optimizer = create_optimizer(model, lrs[0])\n",
    "    prev_val_loss = 10000.0\n",
    "    for i in range(epochs):\n",
    "        train_loss, idx = train_one_epoch(model, optimizer, train_dl, lrs, idx)\n",
    "        val_loss = val_metrics(model, valid_dl)\n",
    "        print(\"train_loss %.3f val_loss %.3f\" % (train_loss, val_loss))\n",
    "        if val_loss < prev_val_loss: \n",
    "            prev_val_loss = val_loss\n",
    "            if val_loss < 1.0: # only save model file if val MAE < 1.0\n",
    "                path = \"{0}/models/model_resnet18_{1:.3f}.pth\".format(PATH, val_loss)\n",
    "                save_model(model, path)\n",
    "                print(path)"
   ]
  },
  {
   "cell_type": "code",
   "execution_count": 57,
   "metadata": {},
   "outputs": [],
   "source": [
    "# changed for regression\n",
    "def val_metrics(model, valid_dl):\n",
    "    model.eval()\n",
    "    total = 0\n",
    "    sum_loss = 0\n",
    "    with torch.no_grad():\n",
    "        for x, y, _ in valid_dl:\n",
    "            # x and y are tensors, x.shape is [64, 3, 256, 256] and y.shape is [64, 1]\n",
    "            batch = y.shape[0]\n",
    "            x = x.cuda().float()\n",
    "            y = y.cuda()\n",
    "            out = model(x) # out is a tensor with shape [64, 1]\n",
    "            y = y.float()\n",
    "            loss = F.l1_loss(out, y)\n",
    "            sum_loss += batch*(loss.item())\n",
    "            total += batch\n",
    "        return sum_loss/total"
   ]
  },
  {
   "cell_type": "markdown",
   "metadata": {},
   "source": [
    "## Training with triangular rates"
   ]
  },
  {
   "cell_type": "code",
   "execution_count": 58,
   "metadata": {},
   "outputs": [],
   "source": [
    "train_dl = DataLoader(train_ds, batch_size=BATCH_SIZE, shuffle=True)\n",
    "valid_dl = DataLoader(valid_ds, batch_size=BATCH_SIZE)"
   ]
  },
  {
   "cell_type": "code",
   "execution_count": 59,
   "metadata": {},
   "outputs": [],
   "source": [
    "model = Net().cuda()"
   ]
  },
  {
   "cell_type": "code",
   "execution_count": 60,
   "metadata": {},
   "outputs": [
    {
     "data": {
      "text/plain": [
       "99.61432910590582"
      ]
     },
     "execution_count": 60,
     "metadata": {},
     "output_type": "execute_result"
    }
   ],
   "source": [
    "val_metrics(model, valid_dl)"
   ]
  },
  {
   "cell_type": "code",
   "execution_count": 61,
   "metadata": {},
   "outputs": [
    {
     "name": "stdout",
     "output_type": "stream",
     "text": [
      "min_start: 3.200e-04, min_end: 3.200e-08, iter1: 150, iter2: 350\n",
      "train_loss 84.722 val_loss 1570.957\n",
      "train_loss 1.735 val_loss 0.757\n",
      "/home/pablo/datasets/data/radioterapia/ciolaplata/models/model_resnet18_0.757.pth\n",
      "train_loss 0.507 val_loss 0.603\n",
      "/home/pablo/datasets/data/radioterapia/ciolaplata/models/model_resnet18_0.603.pth\n",
      "train_loss 0.479 val_loss 0.582\n",
      "/home/pablo/datasets/data/radioterapia/ciolaplata/models/model_resnet18_0.582.pth\n",
      "train_loss 0.370 val_loss 0.458\n",
      "/home/pablo/datasets/data/radioterapia/ciolaplata/models/model_resnet18_0.458.pth\n"
     ]
    }
   ],
   "source": [
    "# create models directory under /home/pablo/datasets/data/invasive-species-monitoring/ first time\n",
    "# same for /home/pablo/datasets/data/radioterapia/ciolaplata/models/\n",
    "model = Net().cuda()\n",
    "# freeze parameters in layers 0 to 5\n",
    "#for param in model.features1.parameters():\n",
    "#    param.requires_grad = False\n",
    "train_triangular_policy(model, train_dl, valid_dl, max_lr=0.008, epochs = 5)"
   ]
  },
  {
   "cell_type": "code",
   "execution_count": 62,
   "metadata": {},
   "outputs": [
    {
     "name": "stdout",
     "output_type": "stream",
     "text": [
      "min_start: 3.200e-04, min_end: 3.200e-08, iter1: 240, iter2: 560\n",
      "train_loss 95.549 val_loss 74.602\n",
      "train_loss 15.252 val_loss 0.806\n",
      "/home/pablo/datasets/data/radioterapia/ciolaplata/models/model_resnet18_0.806.pth\n",
      "train_loss 0.618 val_loss 7.378\n",
      "train_loss 0.739 val_loss 1.802\n",
      "train_loss 0.448 val_loss 1.274\n",
      "train_loss 0.440 val_loss 1.582\n",
      "train_loss 0.384 val_loss 0.713\n",
      "/home/pablo/datasets/data/radioterapia/ciolaplata/models/model_resnet18_0.713.pth\n",
      "train_loss 0.356 val_loss 0.550\n",
      "/home/pablo/datasets/data/radioterapia/ciolaplata/models/model_resnet18_0.550.pth\n"
     ]
    }
   ],
   "source": [
    "model = Net().cuda()\n",
    "\n",
    "# freeze parameters in layers 0 to 5\n",
    "#for param in model.features1.parameters():\n",
    "#    param.requires_grad = True\n",
    "\n",
    "#for param in model.features2.parameters():\n",
    "#    param.requires_grad = True\n",
    "    \n",
    "train_triangular_policy(model, train_dl, valid_dl, max_lr=0.008, epochs = 8)"
   ]
  },
  {
   "cell_type": "code",
   "execution_count": 63,
   "metadata": {},
   "outputs": [
    {
     "name": "stdout",
     "output_type": "stream",
     "text": [
      "min_start: 3.200e-04, min_end: 3.200e-08, iter1: 300, iter2: 700\n",
      "train_loss 97.259 val_loss 85.644\n",
      "train_loss 26.774 val_loss 9.140\n",
      "train_loss 0.879 val_loss 57.601\n",
      "train_loss 0.647 val_loss 11.468\n",
      "train_loss 0.619 val_loss 1.197\n",
      "train_loss 0.506 val_loss 8.300\n",
      "train_loss 0.482 val_loss 0.569\n",
      "/home/pablo/datasets/data/radioterapia/ciolaplata/models/model_resnet18_0.569.pth\n",
      "train_loss 0.436 val_loss 0.533\n",
      "/home/pablo/datasets/data/radioterapia/ciolaplata/models/model_resnet18_0.533.pth\n",
      "train_loss 0.389 val_loss 0.458\n",
      "/home/pablo/datasets/data/radioterapia/ciolaplata/models/model_resnet18_0.458.pth\n",
      "train_loss 0.357 val_loss 0.459\n"
     ]
    }
   ],
   "source": [
    "model = Net().cuda()\n",
    "train_triangular_policy(model, train_dl, valid_dl, max_lr=0.008, epochs = 10)"
   ]
  },
  {
   "cell_type": "code",
   "execution_count": 64,
   "metadata": {},
   "outputs": [
    {
     "name": "stdout",
     "output_type": "stream",
     "text": [
      "min_start: 3.200e-04, min_end: 3.200e-08, iter1: 450, iter2: 1050\n",
      "train_loss 98.538 val_loss 92.359\n",
      "train_loss 56.386 val_loss 894.340\n",
      "train_loss 0.859 val_loss 1.010\n",
      "train_loss 0.620 val_loss 0.589\n",
      "/home/pablo/datasets/data/radioterapia/ciolaplata/models/model_resnet18_0.589.pth\n",
      "train_loss 0.595 val_loss 2.148\n",
      "train_loss 0.617 val_loss 0.591\n",
      "train_loss 0.565 val_loss 2.263\n",
      "train_loss 0.559 val_loss 2.793\n",
      "train_loss 0.570 val_loss 1.015\n",
      "train_loss 0.522 val_loss 0.621\n",
      "train_loss 0.434 val_loss 0.706\n",
      "train_loss 0.405 val_loss 1.318\n",
      "train_loss 0.380 val_loss 0.479\n",
      "/home/pablo/datasets/data/radioterapia/ciolaplata/models/model_resnet18_0.479.pth\n",
      "train_loss 0.355 val_loss 0.541\n",
      "train_loss 0.343 val_loss 0.484\n"
     ]
    }
   ],
   "source": [
    "model = Net().cuda()\n",
    "train_triangular_policy(model, train_dl, valid_dl, max_lr=0.008, epochs = 15)"
   ]
  },
  {
   "cell_type": "markdown",
   "metadata": {},
   "source": [
    "## Load a model"
   ]
  },
  {
   "cell_type": "code",
   "execution_count": 65,
   "metadata": {},
   "outputs": [],
   "source": [
    "def get_predictions_df(model, valid_dl):\n",
    "    model.eval()\n",
    "    pred = []\n",
    "    with torch.no_grad():\n",
    "        for x, y, file in valid_dl:\n",
    "            # x and y are tensors, x.shape is [BATCH_SIZE, 3, 256, 256] and y.shape is [BATCH_SIZE, 1]\n",
    "            x = x.cuda().float()\n",
    "            y = y.cuda().float()\n",
    "            out = model(x) # out is a tensor with shape [BATCH_SIZE, 1]\n",
    "            # a.cpu().numpy() == float(a.cpu().numpy())\n",
    "            batch_pred = [(Path(f).name, a.cpu().item(), b.cpu().item()) for f, a, b in zip(file, y, out)]\n",
    "            pred = pred + batch_pred\n",
    "    # build a pandas dataframe with results\n",
    "    df = pd.DataFrame(pred, columns=['filename', 'actual gamma', 'predicted gamma'])\n",
    "    return df"
   ]
  },
  {
   "cell_type": "code",
   "execution_count": 66,
   "metadata": {},
   "outputs": [],
   "source": [
    "def save_model(m, p): torch.save(m.state_dict(), p)\n",
    "    \n",
    "def load_model(m, p): m.load_state_dict(torch.load(p))"
   ]
  },
  {
   "cell_type": "code",
   "execution_count": 67,
   "metadata": {},
   "outputs": [],
   "source": [
    "# load model\n",
    "mae = 0.458\n",
    "model = Net().cuda()\n",
    "p = PATH/\"models/model_resnet18_{}.pth\".format(mae)\n",
    "load_model(model, p)"
   ]
  },
  {
   "cell_type": "code",
   "execution_count": 68,
   "metadata": {},
   "outputs": [
    {
     "data": {
      "text/plain": [
       "0.35274032659656046"
      ]
     },
     "execution_count": 68,
     "metadata": {},
     "output_type": "execute_result"
    }
   ],
   "source": [
    "val_metrics(model, train_dl)"
   ]
  },
  {
   "cell_type": "code",
   "execution_count": 69,
   "metadata": {},
   "outputs": [
    {
     "data": {
      "text/plain": [
       "0.45803767286436387"
      ]
     },
     "execution_count": 69,
     "metadata": {},
     "output_type": "execute_result"
    }
   ],
   "source": [
    "val_metrics(model, valid_dl)"
   ]
  },
  {
   "cell_type": "code",
   "execution_count": 72,
   "metadata": {},
   "outputs": [
    {
     "data": {
      "text/html": [
       "<div>\n",
       "<style scoped>\n",
       "    .dataframe tbody tr th:only-of-type {\n",
       "        vertical-align: middle;\n",
       "    }\n",
       "\n",
       "    .dataframe tbody tr th {\n",
       "        vertical-align: top;\n",
       "    }\n",
       "\n",
       "    .dataframe thead th {\n",
       "        text-align: right;\n",
       "    }\n",
       "</style>\n",
       "<table border=\"1\" class=\"dataframe\">\n",
       "  <thead>\n",
       "    <tr style=\"text-align: right;\">\n",
       "      <th></th>\n",
       "      <th>filename</th>\n",
       "      <th>actual gamma</th>\n",
       "      <th>predicted gamma</th>\n",
       "    </tr>\n",
       "  </thead>\n",
       "  <tbody>\n",
       "    <tr>\n",
       "      <th>0</th>\n",
       "      <td>1.3.6.1.4.1.9590.100.1.2.250681179813913418312...</td>\n",
       "      <td>99.873177</td>\n",
       "      <td>99.823013</td>\n",
       "    </tr>\n",
       "    <tr>\n",
       "      <th>1</th>\n",
       "      <td>1.3.6.1.4.1.9590.100.1.2.143145627012210047237...</td>\n",
       "      <td>100.000000</td>\n",
       "      <td>99.843025</td>\n",
       "    </tr>\n",
       "    <tr>\n",
       "      <th>2</th>\n",
       "      <td>1.3.6.1.4.1.9590.100.1.2.378149831812545674138...</td>\n",
       "      <td>99.677559</td>\n",
       "      <td>99.883636</td>\n",
       "    </tr>\n",
       "    <tr>\n",
       "      <th>3</th>\n",
       "      <td>1.3.6.1.4.1.9590.100.1.2.302383480412871360932...</td>\n",
       "      <td>99.972778</td>\n",
       "      <td>99.880783</td>\n",
       "    </tr>\n",
       "    <tr>\n",
       "      <th>4</th>\n",
       "      <td>1.3.6.1.4.1.9590.100.1.2.818237160113817578140...</td>\n",
       "      <td>99.940521</td>\n",
       "      <td>99.875526</td>\n",
       "    </tr>\n",
       "  </tbody>\n",
       "</table>\n",
       "</div>"
      ],
      "text/plain": [
       "                                            filename  actual gamma  \\\n",
       "0  1.3.6.1.4.1.9590.100.1.2.250681179813913418312...     99.873177   \n",
       "1  1.3.6.1.4.1.9590.100.1.2.143145627012210047237...    100.000000   \n",
       "2  1.3.6.1.4.1.9590.100.1.2.378149831812545674138...     99.677559   \n",
       "3  1.3.6.1.4.1.9590.100.1.2.302383480412871360932...     99.972778   \n",
       "4  1.3.6.1.4.1.9590.100.1.2.818237160113817578140...     99.940521   \n",
       "\n",
       "   predicted gamma  \n",
       "0        99.823013  \n",
       "1        99.843025  \n",
       "2        99.883636  \n",
       "3        99.880783  \n",
       "4        99.875526  "
      ]
     },
     "execution_count": 72,
     "metadata": {},
     "output_type": "execute_result"
    }
   ],
   "source": [
    "part = \"validation\" # training or validation\n",
    "if part == \"validation\":\n",
    "    df = get_predictions_df(model, valid_dl)\n",
    "else:\n",
    "    df = get_predictions_df(model, train_dl)            \n",
    "df.head()"
   ]
  },
  {
   "cell_type": "code",
   "execution_count": 73,
   "metadata": {},
   "outputs": [],
   "source": [
    "p = PATH/\"predictions/model_resnet18_{}_{}.csv\".format(mae, part)\n",
    "df.to_csv(p, index=False)"
   ]
  },
  {
   "cell_type": "markdown",
   "metadata": {},
   "source": [
    "## Testing time augmentation\n",
    "Testing time augmentation is a technique that uses data aumentation at test time to improve the test predictions. This usually helps but here our accuracy is too high.\n",
    "\n",
    "_Pablo: Since we are not doing data augmentation for fluence maps, then testing time augmentation neithe applies_"
   ]
  },
  {
   "cell_type": "markdown",
   "metadata": {},
   "source": [
    "## Lab\n",
    "Can you get better accuracy?\n",
    "* Change some of the hyperparameters (add dropout, increase the number of the hidden units)\n",
    "* Increase the image resolution\n",
    "* Modify the data augmentation to include other transformations"
   ]
  },
  {
   "cell_type": "markdown",
   "metadata": {},
   "source": [
    "# References\n",
    "This notebook is based on https://github.com/yanneta/deep-learning-data-institute/blob/master/lesson5-image-cnn.ipynb from course \"Fundamentals of Deep Learning with Pytorch\""
   ]
  }
 ],
 "metadata": {
  "kernelspec": {
   "display_name": "Python 3",
   "language": "python",
   "name": "python3"
  },
  "language_info": {
   "codemirror_mode": {
    "name": "ipython",
    "version": 3
   },
   "file_extension": ".py",
   "mimetype": "text/x-python",
   "name": "python",
   "nbconvert_exporter": "python",
   "pygments_lexer": "ipython3",
   "version": "3.7.7"
  },
  "toc": {
   "nav_menu": {},
   "number_sections": true,
   "sideBar": true,
   "skip_h1_title": false,
   "toc_cell": false,
   "toc_position": {},
   "toc_section_display": "block",
   "toc_window_display": false
  }
 },
 "nbformat": 4,
 "nbformat_minor": 2
}
